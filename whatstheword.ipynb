{
  "nbformat": 4,
  "nbformat_minor": 0,
  "metadata": {
    "colab": {
      "provenance": [],
      "authorship_tag": "ABX9TyO9EEL5Q3P5V55NwoAk/cMa",
      "include_colab_link": true
    },
    "kernelspec": {
      "name": "python3",
      "display_name": "Python 3"
    },
    "language_info": {
      "name": "python"
    }
  },
  "cells": [
    {
      "cell_type": "markdown",
      "metadata": {
        "id": "view-in-github",
        "colab_type": "text"
      },
      "source": [
        "<a href=\"https://colab.research.google.com/github/anirudhvaliathan/wordshenanigans/blob/main/whatstheword.ipynb\" target=\"_parent\"><img src=\"https://colab.research.google.com/assets/colab-badge.svg\" alt=\"Open In Colab\"/></a>"
      ]
    },
    {
      "cell_type": "markdown",
      "source": [
        "# WHAT'S THE WORD?\n",
        "\n",
        "\n",
        "I remember hearing the song *Supercalifragilisticexpialidocious* in the film *Mary Poppins* as a child and reading about how it was the longest word in the dictionary, only to come across the word *pneumonoultramicroscopicsilicovolcanoconiosis* a few years later. It referred to a lung disease caused by inhaling very fine ash and sand dust. But it was intentionally created to be the longest.\n",
        "\n",
        "And further research led me to find there are much longer words if we allow ourselves to include scientific names, which puts all the aforementioned title holders to shame. The chemical name for the largest known protein, titin, is *methionylthreonylthreonylglutaminylalanyl…isoleucine.* And it can only be represented here by ellipsis because it is  a whopping 189,819 letters long!\n",
        "\n",
        "So let us take a look at some other questions about English words, the shortest and the longest, the weird and the obscure, and answer them with a helper who never shies away from the tedious, the computer."
      ],
      "metadata": {
        "id": "ZBoHbrnrdr79"
      }
    },
    {
      "cell_type": "markdown",
      "source": [
        "### Setup"
      ],
      "metadata": {
        "id": "vwFoMRnqeGK1"
      }
    },
    {
      "cell_type": "markdown",
      "source": [
        "To get started we will need a list of words. We'll begin by importing the nltk library. We'll use the word list present here.\n",
        "\n",
        "\n",
        "Of course the results and conclusions drawn from the data are only as good as the data itself. That is to say, with another dictionary that contains a  different collection of words, some of the results could be different."
      ],
      "metadata": {
        "id": "SgCuLQMipj2C"
      }
    },
    {
      "cell_type": "code",
      "source": [
        "import random\n",
        "import string\n",
        "from math import comb\n",
        "import pandas as pd\n",
        "import nltk\n",
        "nltk.download('words')\n",
        "from nltk.corpus import words"
      ],
      "metadata": {
        "colab": {
          "base_uri": "https://localhost:8080/"
        },
        "id": "RBYgzVwqeP-c",
        "outputId": "7fe3399d-aae7-4d20-f011-5678f91face0"
      },
      "execution_count": 2,
      "outputs": [
        {
          "output_type": "stream",
          "name": "stderr",
          "text": [
            "[nltk_data] Downloading package words to /root/nltk_data...\n",
            "[nltk_data]   Unzipping corpora/words.zip.\n"
          ]
        }
      ]
    },
    {
      "cell_type": "code",
      "source": [
        "# Get the list of English words\n",
        "english_word_list = words.words()"
      ],
      "metadata": {
        "id": "d5vtVrOUCrP2"
      },
      "execution_count": 3,
      "outputs": []
    },
    {
      "cell_type": "code",
      "source": [
        "# Check number of words in the dictionary\n",
        "print(\"The dictionary contains {} words\".format(len(english_word_list)))\n"
      ],
      "metadata": {
        "colab": {
          "base_uri": "https://localhost:8080/"
        },
        "id": "GzB720C_Sssv",
        "outputId": "eaba712c-ebd2-42eb-e664-44c1f3478c18"
      },
      "execution_count": 4,
      "outputs": [
        {
          "output_type": "stream",
          "name": "stdout",
          "text": [
            "The dictionary contains 236736 words\n"
          ]
        }
      ]
    },
    {
      "cell_type": "markdown",
      "source": [
        "Let's look at a random sample of these"
      ],
      "metadata": {
        "id": "FNCKl4A1rkXm"
      }
    },
    {
      "cell_type": "code",
      "source": [
        "print(\"A few random words: {}\".format(', '.join(random.sample(english_word_list, 10))))"
      ],
      "metadata": {
        "colab": {
          "base_uri": "https://localhost:8080/"
        },
        "id": "bRGQ5RyWro4i",
        "outputId": "e5a99eb3-a253-4b58-cab5-cf419a5f6832"
      },
      "execution_count": 5,
      "outputs": [
        {
          "output_type": "stream",
          "name": "stdout",
          "text": [
            "A few random words: horizontality, catheterism, precompensate, northerliness, unguentarium, annexionist, drawnet, Bellovaci, precriticism, cyclistic\n"
          ]
        }
      ]
    },
    {
      "cell_type": "markdown",
      "source": [
        "Running the previous cell a few times shows that the corpus seems to contain proper nouns. Let's remove these."
      ],
      "metadata": {
        "id": "jnMktVoV4RyL"
      }
    },
    {
      "cell_type": "code",
      "source": [
        "for word in english_word_list[:]:\n",
        "  if word[0].isupper():\n",
        "    english_word_list.remove(word)\n",
        "\n",
        "print(\"The dictionary now contains {} words.\".format(len(english_word_list)))"
      ],
      "metadata": {
        "colab": {
          "base_uri": "https://localhost:8080/"
        },
        "id": "n9X_ORAv4hIO",
        "outputId": "2dfc27c0-2b9c-4362-9fae-201a2c900558"
      },
      "execution_count": 6,
      "outputs": [
        {
          "output_type": "stream",
          "name": "stdout",
          "text": [
            "The dictionary now contains 211536 words.\n"
          ]
        }
      ]
    },
    {
      "cell_type": "markdown",
      "source": [
        "Also, looking at the last few entries of the list, it seems that a few words are repeated, perhaps for *NLP* purposes. Let's remove these as well. A little experimenting shows that we need the last 849 entries removed."
      ],
      "metadata": {
        "id": "WNf4ayd6tZzY"
      }
    },
    {
      "cell_type": "code",
      "source": [
        "del english_word_list[-849:-1]"
      ],
      "metadata": {
        "id": "ZUmQfgp5stW6"
      },
      "execution_count": 7,
      "outputs": []
    },
    {
      "cell_type": "markdown",
      "source": [
        "We have now cleaned our data and can start answering questions."
      ],
      "metadata": {
        "id": "KqhAZeK3KRuw"
      }
    },
    {
      "cell_type": "markdown",
      "source": [
        "### Longests and Shortests\n",
        "\n",
        "First, let's look at some longest and shortest words with different restrictions on the letters and patterns allowed, beginning with the longest word in this dictionary. But before that, lets create a dictionary with the length of the words as keys and the list of words of that particular length as its values."
      ],
      "metadata": {
        "id": "Mw_il3LxwFBU"
      }
    },
    {
      "cell_type": "code",
      "source": [
        "# Length of words\n",
        "\n",
        "word_lengths = {}\n",
        "for word in english_word_list:\n",
        "  length = len(word)\n",
        "  if length not in word_lengths.keys():\n",
        "    word_lengths[length] = [word]\n",
        "  else:\n",
        "    word_lengths[length].append(word)"
      ],
      "metadata": {
        "id": "HgWCNLOVEcnt"
      },
      "execution_count": 9,
      "outputs": []
    },
    {
      "cell_type": "markdown",
      "source": [
        "Now let's check the longest word by indexing into the largest (the largest number) key."
      ],
      "metadata": {
        "id": "HgyeV23Sy85F"
      }
    },
    {
      "cell_type": "code",
      "source": [
        "print('The longest words in this dictionary are {}, containing {} letters each'.format\n",
        " ((', ').join(word_lengths[max(word_lengths.keys())]), max(word_lengths.keys())))\n"
      ],
      "metadata": {
        "colab": {
          "base_uri": "https://localhost:8080/"
        },
        "id": "bQFodHPtN-0W",
        "outputId": "9b799b33-1bcb-4c64-a281-2d049e5d9147"
      },
      "execution_count": 10,
      "outputs": [
        {
          "output_type": "stream",
          "name": "stdout",
          "text": [
            "The longest words in this dictionary are formaldehydesulphoxylate, pathologicopsychological, scientificophilosophical, tetraiodophenolphthalein, thyroparathyroidectomize, containing 24 letters each\n"
          ]
        }
      ]
    },
    {
      "cell_type": "markdown",
      "source": [
        "What about the longest word that contains only vowels?"
      ],
      "metadata": {
        "id": "Ii_rSAVXzRPr"
      }
    },
    {
      "cell_type": "code",
      "source": [
        "# All words with only vowels\n",
        "\n",
        "vowels = ['a', 'e', 'i', 'o', 'u']\n",
        "consonantless = english_word_list.copy()\n",
        "\n",
        "for word in english_word_list:\n",
        "  for letter in word:\n",
        "    if letter not in vowels:\n",
        "      consonantless.remove(word)\n",
        "      break"
      ],
      "metadata": {
        "id": "_788eADtOzor"
      },
      "execution_count": 11,
      "outputs": []
    },
    {
      "cell_type": "code",
      "source": [
        "# Longest word with only vowels\n",
        "\n",
        "m = max(map(len, consonantless))\n",
        "longest = [x for x in consonantless if len(x) == m]\n",
        "\n",
        "print(\"The longest word in this dictionary containing only vowels is {}\".format(', '.join(longest)))"
      ],
      "metadata": {
        "colab": {
          "base_uri": "https://localhost:8080/"
        },
        "id": "_5JxxlltEUWW",
        "outputId": "5f7a1bfc-4eb4-46f1-c635-6feae9c9e72d"
      },
      "execution_count": 16,
      "outputs": [
        {
          "output_type": "stream",
          "name": "stdout",
          "text": [
            "The longest word in this dictionary containing only vowels is iao, oii\n"
          ]
        }
      ]
    },
    {
      "cell_type": "markdown",
      "source": [
        "[Euouae](https://en.wikipedia.org/wiki/Euouae) is an abbreviation used as a musical mnemonic in Latin psalters and other liturgical books of the Roman Rite. Hmm... a mnemonic...\n",
        "\n",
        "Music reminds me of the time I discovered the word *rhythm* had no vowels in it. I thought hard and long to come up with something longer but to no avail. Until I realised I could add an *s* and get *rhythms*. But there was no way to know if there was a larger word still, hiding from my limited vocabulary. Well, today my curiosity will be sated."
      ],
      "metadata": {
        "id": "amwAhHM1zwSZ"
      }
    },
    {
      "cell_type": "code",
      "source": [
        "# Words with only consonants\n",
        "\n",
        "vowelless = english_word_list.copy()\n",
        "\n",
        "for word in english_word_list:\n",
        "  for letter in word:\n",
        "    if letter in vowels:\n",
        "      vowelless.remove(word)\n",
        "      break\n"
      ],
      "metadata": {
        "id": "YnjSbthoOzha"
      },
      "execution_count": 18,
      "outputs": []
    },
    {
      "cell_type": "code",
      "source": [
        "# Longest words with only consonants\n",
        "\n",
        "m = max(map(len, vowelless))\n",
        "longest_vowelless = [x for x in vowelless if len(x) == m ]\n",
        "\n",
        "print(\"The longest word in this dictionary containing only consonants is {}\".format(', '.join(longest_vowelless)))"
      ],
      "metadata": {
        "colab": {
          "base_uri": "https://localhost:8080/"
        },
        "id": "-gM8jcMRHANF",
        "outputId": "de7b4960-b5f9-44ba-a07a-3d404d9dc446"
      },
      "execution_count": 23,
      "outputs": [
        {
          "output_type": "stream",
          "name": "stdout",
          "text": [
            "The longest word in this dictionary containing only consonants is symphysy\n"
          ]
        }
      ]
    },
    {
      "cell_type": "markdown",
      "source": [
        "It seems like I have been beaten, but the internet states the word [symphysy](https://en.wiktionary.org/wiki/symphysy) is both obsolete and rare, so the spoils can be shared.\n",
        "\n",
        "What about the shortest word that contains all the vowels?"
      ],
      "metadata": {
        "id": "9Ka_4eVs1_na"
      }
    },
    {
      "cell_type": "code",
      "source": [
        "# Words with all the vowels\n",
        "\n",
        "all_vowels = []\n",
        "for word in english_word_list:\n",
        "  vowellist = []\n",
        "  for letter in word:\n",
        "    if letter in vowels:\n",
        "      vowellist.append(letter)\n",
        "  if sorted(vowellist) == vowels:\n",
        "    all_vowels.append(word)"
      ],
      "metadata": {
        "id": "MCwnwl7YeqEw"
      },
      "execution_count": 24,
      "outputs": []
    },
    {
      "cell_type": "code",
      "source": [
        "# Shortest word with all vowels\n",
        "\n",
        "m = min(map(len, all_vowels))\n",
        "shortest_allvowels = [x for x in all_vowels if len(x) == m]\n",
        "shortest_allvowels\n",
        "\n",
        "print(\"The shortest words in this dictionary containing all the vowels are {}.\".format(', '.join(shortest_allvowels)))"
      ],
      "metadata": {
        "colab": {
          "base_uri": "https://localhost:8080/"
        },
        "id": "KtbFw7JJf0DI",
        "outputId": "c6710e1e-feda-45a3-d99c-9f1e39c034a4"
      },
      "execution_count": 25,
      "outputs": [
        {
          "output_type": "stream",
          "name": "stdout",
          "text": [
            "The shortest words in this dictionary containing all the vowels are adoulie, eulogia, moineau.\n"
          ]
        }
      ]
    },
    {
      "cell_type": "markdown",
      "source": [
        "What about words that have all vowels in order? And what about all vowels but in reverse? The first one should be possible because of the plentiful common words that end with the *ious* suffix. We need to only remove the part where we call the 'sorted' function on *vowellist*\n",
        "\n",
        "```\n",
        "if sorted(vowellist) == vowels:\n",
        "```\n",
        "\n",
        "for the first part, and use the reverse flag for the second ."
      ],
      "metadata": {
        "id": "olj8u9zwvT88"
      }
    },
    {
      "cell_type": "code",
      "source": [
        "# Words with all the vowels in order\n",
        "\n",
        "all_vowels_ordered = []\n",
        "for word in english_word_list:\n",
        "  vowellist = []\n",
        "  for letter in word:\n",
        "    if letter in vowels:\n",
        "      vowellist.append(letter)\n",
        "  if vowellist == vowels:\n",
        "    all_vowels_ordered.append(word)\n",
        "\n",
        "m = min(map(len, all_vowels_ordered))\n",
        "shortest_allvowels_ordered  = [x for x in all_vowels_ordered if len(x) == m]\n",
        "shortest_allvowels_ordered\n",
        "\n",
        "print(\"The shortest word in the dictionary containing all the vowels in order is {}.\".format(', '.join(shortest_allvowels_ordered )))\n",
        "\n",
        "\n",
        "# Words with all the vowels in reverse order\n",
        "\n",
        "all_vowels_revordered  = []\n",
        "for word in english_word_list:\n",
        "  vowellist = []\n",
        "  for letter in word:\n",
        "    if letter in vowels:\n",
        "      vowellist.append(letter)\n",
        "  if sorted(vowellist, reverse=True) == vowels:\n",
        "    all_vowels_revordered.append(word)\n",
        "\n",
        "\n",
        "if len(all_vowels_revordered) > 0:\n",
        "  m = min(map(len, all_vowels_revordered))\n",
        "  shortest_allvowels_revordered  = [x for x in all_vowels_revordered if len(x) == m]\n",
        "  shortest_allvowels_revordered\n",
        "else:\n",
        "  print('There are no words that contain all the vowels in reverse order')\n"
      ],
      "metadata": {
        "colab": {
          "base_uri": "https://localhost:8080/"
        },
        "id": "JkVdw2H0wV4s",
        "outputId": "280cbbcc-03d1-4167-fa8b-381f580f991d"
      },
      "execution_count": 26,
      "outputs": [
        {
          "output_type": "stream",
          "name": "stdout",
          "text": [
            "The shortest word in the dictionary containing all the vowels in order is caesious.\n",
            "There are no words that contain all the vowels in reverse order\n"
          ]
        }
      ]
    },
    {
      "cell_type": "markdown",
      "source": [
        "Unoinkebla! No words that fit the bill for the second part. However we have a candidate for the first part. [Caesious](https://www.merriam-webster.com/dictionary/caesious#:~:text=adjective,color%20very%20low%20in%20chroma) is an adjective that refers to anything that has a blue colour which is very low in chroma.\n",
        "\n",
        "What if we loosened the restrictions and instead of vowels looked at the longest words in which all the alphabets appear in the usual, or reverse order (Which would mean we are tightening certain other restrictions simultaneously)."
      ],
      "metadata": {
        "id": "BXvVyGtfjb2u"
      }
    },
    {
      "cell_type": "code",
      "source": [
        "# Longest word with alphabets in order\n",
        "\n",
        "longest_word_with_letters_ordered = []\n",
        "length = 0\n",
        "\n",
        "for word in english_word_list:\n",
        "  # only check if current word is as long as previous longest\n",
        "  if len(word) > length - 1:\n",
        "    # flag\n",
        "    is_ordered = True\n",
        "    for i in range(len(word) - 1):\n",
        "      if word[i] > word[i + 1]:\n",
        "        is_ordered = False\n",
        "        break\n",
        "    if is_ordered and (len(word) == length):\n",
        "      longest_word_with_letters_ordered.append(word)\n",
        "    if is_ordered and (len(word) > length):\n",
        "      longest_word_with_letters_ordered = [word]\n",
        "      length = len(word)"
      ],
      "metadata": {
        "id": "phqiSUIxjxUx"
      },
      "execution_count": 27,
      "outputs": []
    },
    {
      "cell_type": "code",
      "source": [
        "print(\"The longest words in this dictionary with letters appearing in alphabetical order are {}\".format(', '.join(longest_word_with_letters_ordered)))"
      ],
      "metadata": {
        "colab": {
          "base_uri": "https://localhost:8080/"
        },
        "id": "yFAgj7B7qD1m",
        "outputId": "16afd72f-889e-4890-fd2c-8c837c03b68d"
      },
      "execution_count": null,
      "outputs": [
        {
          "output_type": "stream",
          "name": "stdout",
          "text": [
            "The longest word with ordered letters are alloquy, beefily, begorry, billowy, egilops\n"
          ]
        }
      ]
    },
    {
      "cell_type": "code",
      "source": [
        "longest_word_with_letters_unordered = []\n",
        "length = 0\n",
        "counter = 0\n",
        "for word in english_word_list:\n",
        "  # only check if current word is as long as previous\n",
        "  if len(word) > length - 1:\n",
        "    counter += 1\n",
        "    # flag\n",
        "    is_unordered = True\n",
        "    for i in range(len(word) - 1):\n",
        "      if word[i] < word[i + 1]:\n",
        "        is_unordered = False\n",
        "        break\n",
        "    if is_unordered and (len(word) == length):\n",
        "      longest_word_with_letters_unordered.append(word)\n",
        "    if is_unordered and (len(word) > length):\n",
        "      longest_word_with_letters_unordered = [word]\n",
        "      length = len(word)"
      ],
      "metadata": {
        "id": "Yrhjwv_DqdjP"
      },
      "execution_count": 28,
      "outputs": []
    },
    {
      "cell_type": "code",
      "source": [
        "print(\"The longest words in this dictionary with letters appearing in reverse alphabetical order are {}\".format(', '.join(longest_word_with_letters_unordered)))"
      ],
      "metadata": {
        "colab": {
          "base_uri": "https://localhost:8080/"
        },
        "id": "mWKNwU37qnW_",
        "outputId": "2fd0b429-3816-4c69-9075-abc15771701e"
      },
      "execution_count": null,
      "outputs": [
        {
          "output_type": "stream",
          "name": "stdout",
          "text": [
            "The longest words in this dictionary with letters appearing in alphabetical order are spiffed, sponged, troolie, wronged\n"
          ]
        }
      ]
    },
    {
      "cell_type": "markdown",
      "source": [
        "Finally, let us find the longest word which has all different letters"
      ],
      "metadata": {
        "id": "GLt7vsOnHLXN"
      }
    },
    {
      "cell_type": "code",
      "source": [
        "# longest word with all different letters\n",
        "\n",
        "longest_word_with_different_letters = []\n",
        "length = 0\n",
        "\n",
        "for word in english_word_list:\n",
        "  # only check if current word is as long as previous\n",
        "  if len(word) > length - 1:\n",
        "    # list of letters checked\n",
        "    prev_letters = []\n",
        "    for letter in word:\n",
        "      if letter in prev_letters:\n",
        "        break\n",
        "      else:\n",
        "        prev_letters.append(letter)\n",
        "    # only runs if all letters are different\n",
        "    if (len(word) == len(prev_letters)) and (len(word) == length):\n",
        "      longest_word_with_different_letters.append(word)\n",
        "    if (len(word) == len(prev_letters)) and (len(word) > length):\n",
        "      longest_word_with_different_letters = [word]\n",
        "      length = len(word)\n"
      ],
      "metadata": {
        "id": "F6X7U1RQKr3N"
      },
      "execution_count": 29,
      "outputs": []
    },
    {
      "cell_type": "code",
      "source": [
        "print(\"The longest word in this dictionary with all different letters is {}.\".format(', '.join(longest_word_with_different_letters)))"
      ],
      "metadata": {
        "colab": {
          "base_uri": "https://localhost:8080/"
        },
        "id": "lHPn0K5hiq2I",
        "outputId": "4cd883ea-fee6-472d-ea87-72cf2ad28178"
      },
      "execution_count": null,
      "outputs": [
        {
          "output_type": "stream",
          "name": "stdout",
          "text": [
            "The longest word in this dictionary with all different letters is dermatoglyphics.\n"
          ]
        }
      ]
    },
    {
      "cell_type": "markdown",
      "source": [
        "The word *dermatoglyphics* itself has something to do with patterns, a fabulous conincidence! It refers to the study of skin markings or patterns on fingers, hands, and feet, and its application, especially in criminology."
      ],
      "metadata": {
        "id": "ywnTZ0-O47zV"
      }
    },
    {
      "cell_type": "markdown",
      "source": [
        "###Repetitions and Sequences\n",
        "\n",
        "For the first part of this section, I would like to find out the answer to the question: which word has the most occurrence of a single letter?\n",
        "\n",
        "We will iterate through the word list, and for each word maintain a dictionary recording the occurrences of all its letters. If it ties with the previous best we will just add it to our main dictionary. If it beats it, we empty the dictionary first. As a small optimization, the loop only checks for words whose length is greater than the record up till then, for the highest count of letters in a single word."
      ],
      "metadata": {
        "id": "HQIaE5up9YEj"
      }
    },
    {
      "cell_type": "code",
      "source": [
        "# Most occurrences of a letter in a word\n",
        "\n",
        "most_occurrences = {}\n",
        "count = 0\n",
        "\n",
        "for word in english_word_list:\n",
        "  letter_count = {}\n",
        "  # only check if word is longer than the max occurrences found till now\n",
        "  if len(word) > count:\n",
        "    for letter in word:\n",
        "      if letter not in letter_count.keys():\n",
        "        letter_count[letter] = 1\n",
        "      else:\n",
        "        letter_count[letter] += 1\n",
        "    if max(letter_count.values()) == count:\n",
        "      most_occurrences[word] = [x for x in letter_count if letter_count[x] == max(letter_count.values())], max(letter_count.values())\n",
        "    if max(letter_count.values()) > count:\n",
        "      most_occurrences = {}\n",
        "      most_occurrences[word] = [x for x in letter_count if letter_count[x] == max(letter_count.values())], max(letter_count.values())\n",
        "      count = max(letter_count.values())\n",
        "\n",
        "print(len(most_occurrences))\n"
      ],
      "metadata": {
        "id": "Uox4-MZXQHpg",
        "colab": {
          "base_uri": "https://localhost:8080/"
        },
        "outputId": "8394fb8c-eae8-4faa-be08-e882bf17c1f8"
      },
      "execution_count": 30,
      "outputs": [
        {
          "output_type": "stream",
          "name": "stdout",
          "text": [
            "1\n"
          ]
        }
      ]
    },
    {
      "cell_type": "markdown",
      "source": [
        "It seems like we have an undisputed winner. There is only one word in our dictionary."
      ],
      "metadata": {
        "id": "lsccZa8fL3eu"
      }
    },
    {
      "cell_type": "code",
      "source": [
        "print(\"The word which contains the most occurrences of a single letter is {}. The letter {} appears {} times in it.\".format(list(most_occurrences.keys())[0], list(most_occurrences.values())[0][0],  list(most_occurrences.values())[0][1]))"
      ],
      "metadata": {
        "colab": {
          "base_uri": "https://localhost:8080/"
        },
        "id": "28Y-pyVcLppd",
        "outputId": "24993bea-d0bb-4d37-c512-3e33bb521817"
      },
      "execution_count": 31,
      "outputs": [
        {
          "output_type": "stream",
          "name": "stdout",
          "text": [
            "The word which contains the most occurrences of a single letter is possessionlessness. The letter ['s'] appears 8 times in it.\n"
          ]
        }
      ]
    },
    {
      "cell_type": "markdown",
      "source": [
        "It is natural to look for a generalisation. That is, for a given letter, which word contains the most occurrences of it?"
      ],
      "metadata": {
        "id": "jzTmRZrgNlp3"
      }
    },
    {
      "cell_type": "code",
      "source": [
        "# Most occurrences for each letter in any word\n",
        "\n",
        "# initialize a dictionary with each letter as a key and a list to record the word(s) and the number of times it occurs in it\n",
        "most_occurrences_of_each_letter = {letter: [0, []] for letter in string.ascii_lowercase}\n",
        "\n",
        "for word in english_word_list:\n",
        "  letter_count = {}\n",
        "  for letter in word:\n",
        "    if letter not in letter_count.keys():\n",
        "      letter_count[letter] = 1\n",
        "    else:\n",
        "      letter_count[letter] += 1\n",
        "  for key in letter_count.keys():\n",
        "    if letter_count[key] > most_occurrences_of_each_letter[key][0]:\n",
        "      most_occurrences_of_each_letter[key][0] = letter_count[key]\n",
        "      most_occurrences_of_each_letter[key][1].clear()\n",
        "      most_occurrences_of_each_letter[key][1].append(word)\n",
        "    elif letter_count[key] == most_occurrences_of_each_letter[key][0]:\n",
        "      most_occurrences_of_each_letter[key][1].append(word)\n",
        "    else:\n",
        "      pass\n"
      ],
      "metadata": {
        "id": "Uiv5uTMvN43A"
      },
      "execution_count": 32,
      "outputs": []
    },
    {
      "cell_type": "markdown",
      "source": [
        "Some of the lists will contain many words so it would be more informative to view this table as a Pandas Dataframe."
      ],
      "metadata": {
        "id": "niFaQZpGCSr7"
      }
    },
    {
      "cell_type": "code",
      "source": [
        "pd.set_option('max_colwidth',1000)\n",
        "table = pd.DataFrame.from_dict(most_occurrences_of_each_letter).transpose()\n",
        "table"
      ],
      "metadata": {
        "colab": {
          "base_uri": "https://localhost:8080/",
          "height": 1000
        },
        "id": "prrAg4oFc_CU",
        "outputId": "8f31ea55-8e6b-465e-fceb-b882def1f707"
      },
      "execution_count": 33,
      "outputs": [
        {
          "output_type": "execute_result",
          "data": {
            "text/plain": [
              "   0  \\\n",
              "a  6   \n",
              "b  4   \n",
              "c  5   \n",
              "d  5   \n",
              "e  7   \n",
              "f  4   \n",
              "g  4   \n",
              "h  4   \n",
              "i  6   \n",
              "j  2   \n",
              "k  4   \n",
              "l  5   \n",
              "m  4   \n",
              "n  6   \n",
              "o  6   \n",
              "p  4   \n",
              "q  2   \n",
              "r  4   \n",
              "s  8   \n",
              "t  5   \n",
              "u  5   \n",
              "v  3   \n",
              "w  3   \n",
              "x  2   \n",
              "y  4   \n",
              "z  3   \n",
              "\n",
              "                                                                                                                                                                                                                                                                                                                                                                                                                                                                                                                                                                                                                                                                                                                                                                                                                                                                                                                                                                                                                                         1  \n",
              "a                                                                                                                                                                                                                                                                                                                                                                                                                                                                                                                                                                                                                                                                                                                                                                                                                                                                                                                                                                                                 [astragalocalcaneal, calcaneoastragalar]  \n",
              "b                                                                                                                                                                                                                                                                                                                                                                                                                                                                                                                                                                                                                                                                                                                                                                                                                                                                                                                                                         [beblubber, beerbibber, bubbybush, flibbertigibbet, gibblegabble, gibblegabbler]  \n",
              "c                                                                                                                                                                                                                                                                                                                                                                                                                                                                                                                                                                                                                                                                                                                                                                                                                                                                                                                                                                         [chroococcaceous, circumcrescence, coccochromatic, cryptococcic]  \n",
              "d                                                                                                                                                                                                                                                                                                                                                                                                                                                                                                                                                                                                                                                                                                                                                                                                                                                                                                                                                                                                                       [disdodecahedroid]  \n",
              "e                                                                                                                                                                                                                                                                                                                                                                                                                                                                                                                                                                                                                                                                                                                                                                                                                                                                                                                                                                                                                 [electrotelethermometer]  \n",
              "f                                                                                                                                                                                                                                                                                                                                                                                                                                                                                                                                                                                                                                                                                                                                                                                                                                                                                                                                                                                                                     [giffgaff, riffraff]  \n",
              "g                                                                                                                                                                                                                                                                                                                                                                                                                                                                                                                                                                                                                                                                                                                                                                                                                                                                                                                    [cuggermugger, ganggang, giggling, gigglingly, gumdigging, higglehaggle, huggermugger, huggermuggery, throughganging]  \n",
              "h                                                                                                                                                                                                                                                                                                                                                                                                                                                                                                                                                                                                                                                                                                                                                                                                                                                            [choledochorrhaphy, chromophotolithograph, ichthyophthalmite, ichthyophthiriasis, ophthalmophthisis, phenolsulphonephthalein, photochromolithograph, thymolsulphonephthalein]  \n",
              "i                                                                                                                                                                                                                                                                                                                                                                                                                                                                                                                                                                                                                                                                                                                                                                                                                                                                                                                                    [impossibilification, indistinguishability, indivisibility, minimifidianism, pericardiomediastinitis]  \n",
              "j                                                                                                                                                                                                                                                                                                                                                                                                                                                                                                                                                                                     [ajaja, avijja, cholecystojejunostomy, duodenojejunal, duodenojejunostomy, gastrojejunal, gastrojejunostomy, hajilij, jajman, jeewhillijers, jejunal, jejunator, jejune, jejunely, jejuneness, jejunitis, jejunity, jejunoduodenal, jejunoileitis, jejunostomy, jejunotomy, jejunum, jeremejevite, jimberjaw, jimberjawed, jimjam, jinglejangle, jinja, jinjili, jipijapa, jojoba, jujitsu, juju, jujube, jujuism, jujuist, perijejunitis, pidjajap]  \n",
              "k                                                                                                                                                                                                                                                                                                                                                                                                                                                                                                                                                                                                                                                                                                                                                                                                                                                                                                                             [kakkak, knickknack, knickknackatory, knickknacked, knickknackery, knickknacket, knickknackish, knickknacky]  \n",
              "l                                                                                                                                                                                                                                                                                                                                                                                                                                                                                                                                                                                                                                                                                                                                                                                                                                                                                                                                 [allochlorophyll, cellulifugally, cellulipetally, intellectualistically, lillibullero, polysyllabically]  \n",
              "m                                                                                                                                                                                                                                                                                                                                                                                                                                                                                                                                                                                                                                                                                                                                                                              [dynamometamorphism, mammectomy, mammiform, mammilliform, mammondom, mammonism, mercuriammonium, metagrammatism, metalammonium, monoammonium, multimammate, mummiform, mummydom, tetramethylammonium, thalamomammillary, theomammomist, thermometamorphism]  \n",
              "n                                                                                                                                                                                                                                                                                                                                                                                                                                                                                                                                                                                                                                                                                                                                                                                                                                                                                                                                                                                                                        [nonannouncement]  \n",
              "o                                                                                                                                                                                                                                                                                                                                                                                                                                                                                                                                                                                                                                                                                                                                                                                                                                                                                       [choledochoduodenostomy, duodenocholedochotomy, monogonoporous, odontonosology, proctocolonoscopy, pseudomonocotyledonous, zoologicoarchaeologist]  \n",
              "p                                                                                                                                                                                                                                                                                                                                                                                                                                                                                                                                                                                                                                                                                                                                                                                                                                                                           [hyperleptoprosopic, pepperproof, pimperlimpimp, pipestapple, posthippocampal, preapperception, proappropriation, protopappas, snippersnapper, whippersnapper]  \n",
              "q  [equivoque, harlequinesque, quadratosquamosal, quadriquadric, quaquaversal, quaquaversally, quinaquina, quinquagenarian, quinquagenary, quinquagesimal, quinquarticular, quinquecapsular, quinquecostate, quinquedentate, quinquedentated, quinquefarious, quinquefid, quinquefoliate, quinquefoliated, quinquefoliolate, quinquegrade, quinquejugous, quinquelateral, quinqueliteral, quinquelobate, quinquelobated, quinquelobed, quinquelocular, quinqueloculine, quinquenary, quinquenerval, quinquenerved, quinquennalia, quinquennia, quinquenniad, quinquennial, quinquennialist, quinquennially, quinquennium, quinquepartite, quinquepedal, quinquepedalian, quinquepetaloid, quinquepunctal, quinquepunctate, quinqueradial, quinqueradiate, quinquereme, quinquertium, quinquesect, quinquesection, quinqueseptate, quinqueserial, quinqueseriate, quinquesyllabic, quinquesyllable, quinquetubercular, quinquetuberculate, quinquevalence, quinquevalency, quinquevalent, quinquevalve, quinquevalvous, quinquevalvular,...  \n",
              "r  [archcorrupter, archmurderer, archtreasurer, archtreasurership, arteriopressor, arteriorrhagia, arteriorrhaphy, arteriorrhexis, arterioverter, arthrorrhagia, barothermohygrograph, briarberry, brierberry, burrgrailer, cardiorespiratory, circumterrestrial, corroborator, corroboratorily, corroboratory, counterterror, crackerberry, erythrocytorrhexis, erythrorrhexis, extracurricular, extraterrestrial, extraterritorial, extraterritoriality, extraterritorially, ferroconcretor, gastrohydrorrhea, gastrohysterorrhaphy, gerrymanderer, horrormonger, horrormongering, hyperterrestrial, infraterritorial, intercarrier, interterritorial, intertransversary, intraterritorial, kerrikerri, merrytrotter, microrefractometer, partridgeberry, pericardiorrhaphy, precorridor, precurricular, preferrer, prehorror, prereformatory, presurrender, preterregular, preterrestrial, preterritorial, preterscriptural, procarrier, prosurrender, protreasurer, pyrotritartric, pyrroporphyrin, rearranger, recarburizer, recar...  \n",
              "s                                                                                                                                                                                                                                                                                                                                                                                                                                                                                                                                                                                                                                                                                                                                                                                                                                                                                                                                                                                                                     [possessionlessness]  \n",
              "t                                                                                                                                                                                                                                                                                                                                                                                                                                                                                                                                                                                                                                                                                                                                                                                                                                 [anticonstitutionalist, counterattestation, hastatosagittate, tetrasubstituted, tetrasubstitution, totipotentiality, transubstantiationalist, transubstantiationite, turbinatostipitate, yttrotantalite]  \n",
              "u                                                                                                                                                                                                                                                                                                                                                                                                                                                                                                                                                                                                                                                                                                                                                                                                                                                                                                                                                                                                                           [untumultuous]  \n",
              "v                                                                                                                                                                                                                                                                                                                                                                                                                                                                                                                                                                                                                                                                                                                                                                                                                            [overconservative, overconservatively, oversurviving, ovoviviparism, ovoviviparity, ovoviviparous, ovoviviparously, ovoviviparousness, vaginovulvar, vivificative, vivisective, vulvovaginal, vulvovaginitis]  \n",
              "w                                                                                                                                                                                                                                                                                                                                                                                                                                                                                                                                                                                                                                                                                                                                                                                                                                       [bowwow, powwow, powwower, powwowism, swallowwort, weewow, whitlowwort, williwaw, willowware, willowweed, willowworm, willowwort, windowward, windowwards, windowwise, windwayward, windwaywardly]  \n",
              "x                                                                                                                                                                                                                                                                                                                                                                                                                                                                                                                                                                                                                                                                                                                          [adnexopexy, auxotox, coexecutrix, executrix, executrixship, exlex, exonarthex, exotoxic, exotoxin, expenditrix, exterminatrix, extispex, hexachlorocyclohexane, hexahydroxy, maxillopremaxillary, maxixe, oxyhexactine, oxyhexaster, paxwax, rixatrix, saxifrax, sextuplex, taxwax, xanthoxenite, xanthoxylin]  \n",
              "y                                                                                                                                                                                                                                                                                                                                                                                                                                                                                                                                                                                                                                                                                                                                                                                                                                                                                                                                                                                                                 [dacryocystosyringotomy]  \n",
              "z                                                                                                                                                                                                                                                                                                                                                                                                                                                                                                                                                                                                                                                                                                                                                                                                                                                                                                                                                                                                                                   [zizz]  "
            ],
            "text/html": [
              "\n",
              "  <div id=\"df-41e7e0ce-cfbf-4e91-af1c-b99f198a326f\" class=\"colab-df-container\">\n",
              "    <div>\n",
              "<style scoped>\n",
              "    .dataframe tbody tr th:only-of-type {\n",
              "        vertical-align: middle;\n",
              "    }\n",
              "\n",
              "    .dataframe tbody tr th {\n",
              "        vertical-align: top;\n",
              "    }\n",
              "\n",
              "    .dataframe thead th {\n",
              "        text-align: right;\n",
              "    }\n",
              "</style>\n",
              "<table border=\"1\" class=\"dataframe\">\n",
              "  <thead>\n",
              "    <tr style=\"text-align: right;\">\n",
              "      <th></th>\n",
              "      <th>0</th>\n",
              "      <th>1</th>\n",
              "    </tr>\n",
              "  </thead>\n",
              "  <tbody>\n",
              "    <tr>\n",
              "      <th>a</th>\n",
              "      <td>6</td>\n",
              "      <td>[astragalocalcaneal, calcaneoastragalar]</td>\n",
              "    </tr>\n",
              "    <tr>\n",
              "      <th>b</th>\n",
              "      <td>4</td>\n",
              "      <td>[beblubber, beerbibber, bubbybush, flibbertigibbet, gibblegabble, gibblegabbler]</td>\n",
              "    </tr>\n",
              "    <tr>\n",
              "      <th>c</th>\n",
              "      <td>5</td>\n",
              "      <td>[chroococcaceous, circumcrescence, coccochromatic, cryptococcic]</td>\n",
              "    </tr>\n",
              "    <tr>\n",
              "      <th>d</th>\n",
              "      <td>5</td>\n",
              "      <td>[disdodecahedroid]</td>\n",
              "    </tr>\n",
              "    <tr>\n",
              "      <th>e</th>\n",
              "      <td>7</td>\n",
              "      <td>[electrotelethermometer]</td>\n",
              "    </tr>\n",
              "    <tr>\n",
              "      <th>f</th>\n",
              "      <td>4</td>\n",
              "      <td>[giffgaff, riffraff]</td>\n",
              "    </tr>\n",
              "    <tr>\n",
              "      <th>g</th>\n",
              "      <td>4</td>\n",
              "      <td>[cuggermugger, ganggang, giggling, gigglingly, gumdigging, higglehaggle, huggermugger, huggermuggery, throughganging]</td>\n",
              "    </tr>\n",
              "    <tr>\n",
              "      <th>h</th>\n",
              "      <td>4</td>\n",
              "      <td>[choledochorrhaphy, chromophotolithograph, ichthyophthalmite, ichthyophthiriasis, ophthalmophthisis, phenolsulphonephthalein, photochromolithograph, thymolsulphonephthalein]</td>\n",
              "    </tr>\n",
              "    <tr>\n",
              "      <th>i</th>\n",
              "      <td>6</td>\n",
              "      <td>[impossibilification, indistinguishability, indivisibility, minimifidianism, pericardiomediastinitis]</td>\n",
              "    </tr>\n",
              "    <tr>\n",
              "      <th>j</th>\n",
              "      <td>2</td>\n",
              "      <td>[ajaja, avijja, cholecystojejunostomy, duodenojejunal, duodenojejunostomy, gastrojejunal, gastrojejunostomy, hajilij, jajman, jeewhillijers, jejunal, jejunator, jejune, jejunely, jejuneness, jejunitis, jejunity, jejunoduodenal, jejunoileitis, jejunostomy, jejunotomy, jejunum, jeremejevite, jimberjaw, jimberjawed, jimjam, jinglejangle, jinja, jinjili, jipijapa, jojoba, jujitsu, juju, jujube, jujuism, jujuist, perijejunitis, pidjajap]</td>\n",
              "    </tr>\n",
              "    <tr>\n",
              "      <th>k</th>\n",
              "      <td>4</td>\n",
              "      <td>[kakkak, knickknack, knickknackatory, knickknacked, knickknackery, knickknacket, knickknackish, knickknacky]</td>\n",
              "    </tr>\n",
              "    <tr>\n",
              "      <th>l</th>\n",
              "      <td>5</td>\n",
              "      <td>[allochlorophyll, cellulifugally, cellulipetally, intellectualistically, lillibullero, polysyllabically]</td>\n",
              "    </tr>\n",
              "    <tr>\n",
              "      <th>m</th>\n",
              "      <td>4</td>\n",
              "      <td>[dynamometamorphism, mammectomy, mammiform, mammilliform, mammondom, mammonism, mercuriammonium, metagrammatism, metalammonium, monoammonium, multimammate, mummiform, mummydom, tetramethylammonium, thalamomammillary, theomammomist, thermometamorphism]</td>\n",
              "    </tr>\n",
              "    <tr>\n",
              "      <th>n</th>\n",
              "      <td>6</td>\n",
              "      <td>[nonannouncement]</td>\n",
              "    </tr>\n",
              "    <tr>\n",
              "      <th>o</th>\n",
              "      <td>6</td>\n",
              "      <td>[choledochoduodenostomy, duodenocholedochotomy, monogonoporous, odontonosology, proctocolonoscopy, pseudomonocotyledonous, zoologicoarchaeologist]</td>\n",
              "    </tr>\n",
              "    <tr>\n",
              "      <th>p</th>\n",
              "      <td>4</td>\n",
              "      <td>[hyperleptoprosopic, pepperproof, pimperlimpimp, pipestapple, posthippocampal, preapperception, proappropriation, protopappas, snippersnapper, whippersnapper]</td>\n",
              "    </tr>\n",
              "    <tr>\n",
              "      <th>q</th>\n",
              "      <td>2</td>\n",
              "      <td>[equivoque, harlequinesque, quadratosquamosal, quadriquadric, quaquaversal, quaquaversally, quinaquina, quinquagenarian, quinquagenary, quinquagesimal, quinquarticular, quinquecapsular, quinquecostate, quinquedentate, quinquedentated, quinquefarious, quinquefid, quinquefoliate, quinquefoliated, quinquefoliolate, quinquegrade, quinquejugous, quinquelateral, quinqueliteral, quinquelobate, quinquelobated, quinquelobed, quinquelocular, quinqueloculine, quinquenary, quinquenerval, quinquenerved, quinquennalia, quinquennia, quinquenniad, quinquennial, quinquennialist, quinquennially, quinquennium, quinquepartite, quinquepedal, quinquepedalian, quinquepetaloid, quinquepunctal, quinquepunctate, quinqueradial, quinqueradiate, quinquereme, quinquertium, quinquesect, quinquesection, quinqueseptate, quinqueserial, quinqueseriate, quinquesyllabic, quinquesyllable, quinquetubercular, quinquetuberculate, quinquevalence, quinquevalency, quinquevalent, quinquevalve, quinquevalvous, quinquevalvular,...</td>\n",
              "    </tr>\n",
              "    <tr>\n",
              "      <th>r</th>\n",
              "      <td>4</td>\n",
              "      <td>[archcorrupter, archmurderer, archtreasurer, archtreasurership, arteriopressor, arteriorrhagia, arteriorrhaphy, arteriorrhexis, arterioverter, arthrorrhagia, barothermohygrograph, briarberry, brierberry, burrgrailer, cardiorespiratory, circumterrestrial, corroborator, corroboratorily, corroboratory, counterterror, crackerberry, erythrocytorrhexis, erythrorrhexis, extracurricular, extraterrestrial, extraterritorial, extraterritoriality, extraterritorially, ferroconcretor, gastrohydrorrhea, gastrohysterorrhaphy, gerrymanderer, horrormonger, horrormongering, hyperterrestrial, infraterritorial, intercarrier, interterritorial, intertransversary, intraterritorial, kerrikerri, merrytrotter, microrefractometer, partridgeberry, pericardiorrhaphy, precorridor, precurricular, preferrer, prehorror, prereformatory, presurrender, preterregular, preterrestrial, preterritorial, preterscriptural, procarrier, prosurrender, protreasurer, pyrotritartric, pyrroporphyrin, rearranger, recarburizer, recar...</td>\n",
              "    </tr>\n",
              "    <tr>\n",
              "      <th>s</th>\n",
              "      <td>8</td>\n",
              "      <td>[possessionlessness]</td>\n",
              "    </tr>\n",
              "    <tr>\n",
              "      <th>t</th>\n",
              "      <td>5</td>\n",
              "      <td>[anticonstitutionalist, counterattestation, hastatosagittate, tetrasubstituted, tetrasubstitution, totipotentiality, transubstantiationalist, transubstantiationite, turbinatostipitate, yttrotantalite]</td>\n",
              "    </tr>\n",
              "    <tr>\n",
              "      <th>u</th>\n",
              "      <td>5</td>\n",
              "      <td>[untumultuous]</td>\n",
              "    </tr>\n",
              "    <tr>\n",
              "      <th>v</th>\n",
              "      <td>3</td>\n",
              "      <td>[overconservative, overconservatively, oversurviving, ovoviviparism, ovoviviparity, ovoviviparous, ovoviviparously, ovoviviparousness, vaginovulvar, vivificative, vivisective, vulvovaginal, vulvovaginitis]</td>\n",
              "    </tr>\n",
              "    <tr>\n",
              "      <th>w</th>\n",
              "      <td>3</td>\n",
              "      <td>[bowwow, powwow, powwower, powwowism, swallowwort, weewow, whitlowwort, williwaw, willowware, willowweed, willowworm, willowwort, windowward, windowwards, windowwise, windwayward, windwaywardly]</td>\n",
              "    </tr>\n",
              "    <tr>\n",
              "      <th>x</th>\n",
              "      <td>2</td>\n",
              "      <td>[adnexopexy, auxotox, coexecutrix, executrix, executrixship, exlex, exonarthex, exotoxic, exotoxin, expenditrix, exterminatrix, extispex, hexachlorocyclohexane, hexahydroxy, maxillopremaxillary, maxixe, oxyhexactine, oxyhexaster, paxwax, rixatrix, saxifrax, sextuplex, taxwax, xanthoxenite, xanthoxylin]</td>\n",
              "    </tr>\n",
              "    <tr>\n",
              "      <th>y</th>\n",
              "      <td>4</td>\n",
              "      <td>[dacryocystosyringotomy]</td>\n",
              "    </tr>\n",
              "    <tr>\n",
              "      <th>z</th>\n",
              "      <td>3</td>\n",
              "      <td>[zizz]</td>\n",
              "    </tr>\n",
              "  </tbody>\n",
              "</table>\n",
              "</div>\n",
              "    <div class=\"colab-df-buttons\">\n",
              "\n",
              "  <div class=\"colab-df-container\">\n",
              "    <button class=\"colab-df-convert\" onclick=\"convertToInteractive('df-41e7e0ce-cfbf-4e91-af1c-b99f198a326f')\"\n",
              "            title=\"Convert this dataframe to an interactive table.\"\n",
              "            style=\"display:none;\">\n",
              "\n",
              "  <svg xmlns=\"http://www.w3.org/2000/svg\" height=\"24px\" viewBox=\"0 -960 960 960\">\n",
              "    <path d=\"M120-120v-720h720v720H120Zm60-500h600v-160H180v160Zm220 220h160v-160H400v160Zm0 220h160v-160H400v160ZM180-400h160v-160H180v160Zm440 0h160v-160H620v160ZM180-180h160v-160H180v160Zm440 0h160v-160H620v160Z\"/>\n",
              "  </svg>\n",
              "    </button>\n",
              "\n",
              "  <style>\n",
              "    .colab-df-container {\n",
              "      display:flex;\n",
              "      gap: 12px;\n",
              "    }\n",
              "\n",
              "    .colab-df-convert {\n",
              "      background-color: #E8F0FE;\n",
              "      border: none;\n",
              "      border-radius: 50%;\n",
              "      cursor: pointer;\n",
              "      display: none;\n",
              "      fill: #1967D2;\n",
              "      height: 32px;\n",
              "      padding: 0 0 0 0;\n",
              "      width: 32px;\n",
              "    }\n",
              "\n",
              "    .colab-df-convert:hover {\n",
              "      background-color: #E2EBFA;\n",
              "      box-shadow: 0px 1px 2px rgba(60, 64, 67, 0.3), 0px 1px 3px 1px rgba(60, 64, 67, 0.15);\n",
              "      fill: #174EA6;\n",
              "    }\n",
              "\n",
              "    .colab-df-buttons div {\n",
              "      margin-bottom: 4px;\n",
              "    }\n",
              "\n",
              "    [theme=dark] .colab-df-convert {\n",
              "      background-color: #3B4455;\n",
              "      fill: #D2E3FC;\n",
              "    }\n",
              "\n",
              "    [theme=dark] .colab-df-convert:hover {\n",
              "      background-color: #434B5C;\n",
              "      box-shadow: 0px 1px 3px 1px rgba(0, 0, 0, 0.15);\n",
              "      filter: drop-shadow(0px 1px 2px rgba(0, 0, 0, 0.3));\n",
              "      fill: #FFFFFF;\n",
              "    }\n",
              "  </style>\n",
              "\n",
              "    <script>\n",
              "      const buttonEl =\n",
              "        document.querySelector('#df-41e7e0ce-cfbf-4e91-af1c-b99f198a326f button.colab-df-convert');\n",
              "      buttonEl.style.display =\n",
              "        google.colab.kernel.accessAllowed ? 'block' : 'none';\n",
              "\n",
              "      async function convertToInteractive(key) {\n",
              "        const element = document.querySelector('#df-41e7e0ce-cfbf-4e91-af1c-b99f198a326f');\n",
              "        const dataTable =\n",
              "          await google.colab.kernel.invokeFunction('convertToInteractive',\n",
              "                                                    [key], {});\n",
              "        if (!dataTable) return;\n",
              "\n",
              "        const docLinkHtml = 'Like what you see? Visit the ' +\n",
              "          '<a target=\"_blank\" href=https://colab.research.google.com/notebooks/data_table.ipynb>data table notebook</a>'\n",
              "          + ' to learn more about interactive tables.';\n",
              "        element.innerHTML = '';\n",
              "        dataTable['output_type'] = 'display_data';\n",
              "        await google.colab.output.renderOutput(dataTable, element);\n",
              "        const docLink = document.createElement('div');\n",
              "        docLink.innerHTML = docLinkHtml;\n",
              "        element.appendChild(docLink);\n",
              "      }\n",
              "    </script>\n",
              "  </div>\n",
              "\n",
              "\n",
              "<div id=\"df-4070dbb7-2586-4257-b6fd-73b788e576b1\">\n",
              "  <button class=\"colab-df-quickchart\" onclick=\"quickchart('df-4070dbb7-2586-4257-b6fd-73b788e576b1')\"\n",
              "            title=\"Suggest charts\"\n",
              "            style=\"display:none;\">\n",
              "\n",
              "<svg xmlns=\"http://www.w3.org/2000/svg\" height=\"24px\"viewBox=\"0 0 24 24\"\n",
              "     width=\"24px\">\n",
              "    <g>\n",
              "        <path d=\"M19 3H5c-1.1 0-2 .9-2 2v14c0 1.1.9 2 2 2h14c1.1 0 2-.9 2-2V5c0-1.1-.9-2-2-2zM9 17H7v-7h2v7zm4 0h-2V7h2v10zm4 0h-2v-4h2v4z\"/>\n",
              "    </g>\n",
              "</svg>\n",
              "  </button>\n",
              "\n",
              "<style>\n",
              "  .colab-df-quickchart {\n",
              "      --bg-color: #E8F0FE;\n",
              "      --fill-color: #1967D2;\n",
              "      --hover-bg-color: #E2EBFA;\n",
              "      --hover-fill-color: #174EA6;\n",
              "      --disabled-fill-color: #AAA;\n",
              "      --disabled-bg-color: #DDD;\n",
              "  }\n",
              "\n",
              "  [theme=dark] .colab-df-quickchart {\n",
              "      --bg-color: #3B4455;\n",
              "      --fill-color: #D2E3FC;\n",
              "      --hover-bg-color: #434B5C;\n",
              "      --hover-fill-color: #FFFFFF;\n",
              "      --disabled-bg-color: #3B4455;\n",
              "      --disabled-fill-color: #666;\n",
              "  }\n",
              "\n",
              "  .colab-df-quickchart {\n",
              "    background-color: var(--bg-color);\n",
              "    border: none;\n",
              "    border-radius: 50%;\n",
              "    cursor: pointer;\n",
              "    display: none;\n",
              "    fill: var(--fill-color);\n",
              "    height: 32px;\n",
              "    padding: 0;\n",
              "    width: 32px;\n",
              "  }\n",
              "\n",
              "  .colab-df-quickchart:hover {\n",
              "    background-color: var(--hover-bg-color);\n",
              "    box-shadow: 0 1px 2px rgba(60, 64, 67, 0.3), 0 1px 3px 1px rgba(60, 64, 67, 0.15);\n",
              "    fill: var(--button-hover-fill-color);\n",
              "  }\n",
              "\n",
              "  .colab-df-quickchart-complete:disabled,\n",
              "  .colab-df-quickchart-complete:disabled:hover {\n",
              "    background-color: var(--disabled-bg-color);\n",
              "    fill: var(--disabled-fill-color);\n",
              "    box-shadow: none;\n",
              "  }\n",
              "\n",
              "  .colab-df-spinner {\n",
              "    border: 2px solid var(--fill-color);\n",
              "    border-color: transparent;\n",
              "    border-bottom-color: var(--fill-color);\n",
              "    animation:\n",
              "      spin 1s steps(1) infinite;\n",
              "  }\n",
              "\n",
              "  @keyframes spin {\n",
              "    0% {\n",
              "      border-color: transparent;\n",
              "      border-bottom-color: var(--fill-color);\n",
              "      border-left-color: var(--fill-color);\n",
              "    }\n",
              "    20% {\n",
              "      border-color: transparent;\n",
              "      border-left-color: var(--fill-color);\n",
              "      border-top-color: var(--fill-color);\n",
              "    }\n",
              "    30% {\n",
              "      border-color: transparent;\n",
              "      border-left-color: var(--fill-color);\n",
              "      border-top-color: var(--fill-color);\n",
              "      border-right-color: var(--fill-color);\n",
              "    }\n",
              "    40% {\n",
              "      border-color: transparent;\n",
              "      border-right-color: var(--fill-color);\n",
              "      border-top-color: var(--fill-color);\n",
              "    }\n",
              "    60% {\n",
              "      border-color: transparent;\n",
              "      border-right-color: var(--fill-color);\n",
              "    }\n",
              "    80% {\n",
              "      border-color: transparent;\n",
              "      border-right-color: var(--fill-color);\n",
              "      border-bottom-color: var(--fill-color);\n",
              "    }\n",
              "    90% {\n",
              "      border-color: transparent;\n",
              "      border-bottom-color: var(--fill-color);\n",
              "    }\n",
              "  }\n",
              "</style>\n",
              "\n",
              "  <script>\n",
              "    async function quickchart(key) {\n",
              "      const quickchartButtonEl =\n",
              "        document.querySelector('#' + key + ' button');\n",
              "      quickchartButtonEl.disabled = true;  // To prevent multiple clicks.\n",
              "      quickchartButtonEl.classList.add('colab-df-spinner');\n",
              "      try {\n",
              "        const charts = await google.colab.kernel.invokeFunction(\n",
              "            'suggestCharts', [key], {});\n",
              "      } catch (error) {\n",
              "        console.error('Error during call to suggestCharts:', error);\n",
              "      }\n",
              "      quickchartButtonEl.classList.remove('colab-df-spinner');\n",
              "      quickchartButtonEl.classList.add('colab-df-quickchart-complete');\n",
              "    }\n",
              "    (() => {\n",
              "      let quickchartButtonEl =\n",
              "        document.querySelector('#df-4070dbb7-2586-4257-b6fd-73b788e576b1 button');\n",
              "      quickchartButtonEl.style.display =\n",
              "        google.colab.kernel.accessAllowed ? 'block' : 'none';\n",
              "    })();\n",
              "  </script>\n",
              "</div>\n",
              "\n",
              "  <div id=\"id_b704c33c-3efc-441b-a7dc-029b1c52dacd\">\n",
              "    <style>\n",
              "      .colab-df-generate {\n",
              "        background-color: #E8F0FE;\n",
              "        border: none;\n",
              "        border-radius: 50%;\n",
              "        cursor: pointer;\n",
              "        display: none;\n",
              "        fill: #1967D2;\n",
              "        height: 32px;\n",
              "        padding: 0 0 0 0;\n",
              "        width: 32px;\n",
              "      }\n",
              "\n",
              "      .colab-df-generate:hover {\n",
              "        background-color: #E2EBFA;\n",
              "        box-shadow: 0px 1px 2px rgba(60, 64, 67, 0.3), 0px 1px 3px 1px rgba(60, 64, 67, 0.15);\n",
              "        fill: #174EA6;\n",
              "      }\n",
              "\n",
              "      [theme=dark] .colab-df-generate {\n",
              "        background-color: #3B4455;\n",
              "        fill: #D2E3FC;\n",
              "      }\n",
              "\n",
              "      [theme=dark] .colab-df-generate:hover {\n",
              "        background-color: #434B5C;\n",
              "        box-shadow: 0px 1px 3px 1px rgba(0, 0, 0, 0.15);\n",
              "        filter: drop-shadow(0px 1px 2px rgba(0, 0, 0, 0.3));\n",
              "        fill: #FFFFFF;\n",
              "      }\n",
              "    </style>\n",
              "    <button class=\"colab-df-generate\" onclick=\"generateWithVariable('table')\"\n",
              "            title=\"Generate code using this dataframe.\"\n",
              "            style=\"display:none;\">\n",
              "\n",
              "  <svg xmlns=\"http://www.w3.org/2000/svg\" height=\"24px\"viewBox=\"0 0 24 24\"\n",
              "       width=\"24px\">\n",
              "    <path d=\"M7,19H8.4L18.45,9,17,7.55,7,17.6ZM5,21V16.75L18.45,3.32a2,2,0,0,1,2.83,0l1.4,1.43a1.91,1.91,0,0,1,.58,1.4,1.91,1.91,0,0,1-.58,1.4L9.25,21ZM18.45,9,17,7.55Zm-12,3A5.31,5.31,0,0,0,4.9,8.1,5.31,5.31,0,0,0,1,6.5,5.31,5.31,0,0,0,4.9,4.9,5.31,5.31,0,0,0,6.5,1,5.31,5.31,0,0,0,8.1,4.9,5.31,5.31,0,0,0,12,6.5,5.46,5.46,0,0,0,6.5,12Z\"/>\n",
              "  </svg>\n",
              "    </button>\n",
              "    <script>\n",
              "      (() => {\n",
              "      const buttonEl =\n",
              "        document.querySelector('#id_b704c33c-3efc-441b-a7dc-029b1c52dacd button.colab-df-generate');\n",
              "      buttonEl.style.display =\n",
              "        google.colab.kernel.accessAllowed ? 'block' : 'none';\n",
              "\n",
              "      buttonEl.onclick = () => {\n",
              "        google.colab.notebook.generateWithVariable('table');\n",
              "      }\n",
              "      })();\n",
              "    </script>\n",
              "  </div>\n",
              "\n",
              "    </div>\n",
              "  </div>\n"
            ],
            "application/vnd.google.colaboratory.intrinsic+json": {
              "type": "dataframe",
              "variable_name": "table",
              "summary": "{\n  \"name\": \"table\",\n  \"rows\": 26,\n  \"fields\": [\n    {\n      \"column\": 0,\n      \"properties\": {\n        \"dtype\": \"date\",\n        \"min\": 2,\n        \"max\": 8,\n        \"num_unique_values\": 7,\n        \"samples\": [\n          6,\n          4,\n          8\n        ],\n        \"semantic_type\": \"\",\n        \"description\": \"\"\n      }\n    },\n    {\n      \"column\": 1,\n      \"properties\": {\n        \"dtype\": \"object\",\n        \"semantic_type\": \"\",\n        \"description\": \"\"\n      }\n    }\n  ]\n}"
            }
          },
          "metadata": {},
          "execution_count": 33
        }
      ]
    },
    {
      "cell_type": "markdown",
      "source": [
        "It seems that for every letter there is at least one word where it appears twice, and only three letters for which two is the mazximum - *x*, *q*, and *j*. There is also only one letter for which the maximum is 7, *e*, and only one word where this happens."
      ],
      "metadata": {
        "id": "G9DwRCD9vtSL"
      }
    },
    {
      "cell_type": "markdown",
      "source": [
        "There are a lot of words where two different letters appear as a double consecutively, for instance take the word *balloon*. But is there a word where this happens for three different letters? The word *committee* comes very close, but not quite. If only *i* didn't come in between it, humph."
      ],
      "metadata": {
        "id": "kZIl8SG_h5Lz"
      }
    },
    {
      "cell_type": "code",
      "source": [
        "# Two letters thrice consecutively\n",
        "thricecons = []\n",
        "for word in english_word_list:\n",
        "  if len(word) > 5:\n",
        "    for i in range(len(word) - 5):\n",
        "      if (word[i] == word [i+1]) & (word[i+2] == word[i+3]) & (word[i+4] == word[i+5]):\n",
        "        thricecons.append(word)\n",
        "        break\n",
        "\n",
        "print(\"The words where a double appears thrice consecutively are {}.\".format(', '.join(thricecons)))"
      ],
      "metadata": {
        "colab": {
          "base_uri": "https://localhost:8080/"
        },
        "id": "aN9g2REeNPyZ",
        "outputId": "16129124-e943-4451-b38d-2f1550053c0a"
      },
      "execution_count": 34,
      "outputs": [
        {
          "output_type": "stream",
          "name": "stdout",
          "text": [
            "The words where a double appears thrice consecutively are bookkeeper, bookkeeping, subbookkeeper.\n"
          ]
        }
      ]
    },
    {
      "cell_type": "markdown",
      "source": [
        "We have 3 words! Of course, the same question for 4 needs no further answering. Subbookkeepers rejoice!\n",
        "\n",
        "If we have gone down this line of curiosity, we must ask if there is a word where a letter appears as a triple. Unfortunately, the answer is disappointing."
      ],
      "metadata": {
        "id": "3FUS97m7QAhL"
      }
    },
    {
      "cell_type": "code",
      "source": [
        "# A letter hattrick\n",
        "hattrick = []\n",
        "for word in english_word_list:\n",
        "  if len(word) > 2:\n",
        "    for i in range(len(word) - 2):\n",
        "      if (word[i] == word [i+1] == word[i+2]):\n",
        "        thricecons.append(word)\n",
        "        break\n",
        "\n",
        "print(len(hattrick))"
      ],
      "metadata": {
        "colab": {
          "base_uri": "https://localhost:8080/"
        },
        "id": "DKjVPj6sQH-E",
        "outputId": "c475a0dd-e516-4ba6-87d2-9a71968df974"
      },
      "execution_count": 35,
      "outputs": [
        {
          "output_type": "stream",
          "name": "stdout",
          "text": [
            "0\n"
          ]
        }
      ]
    },
    {
      "cell_type": "markdown",
      "source": [
        "### Anagrams\n",
        "\n",
        "In this section we seek to answer the following question: Which subset of letters can create the most (repetition is allowed)? This is inspired by the [Spelling Bee](https://spellbee.org/) game where you must make words from the seven letters given, each of which must include the middle letter.\n",
        "\n",
        "Of course if we allow all 26 then we may create all the words. So we must impose a restriction on the size of the subset. So, our question becomes thus: which group of three or four or five letters can create the most words? And what are they?\n",
        "\n",
        "To answer this we will create a function which takes as input a number and returns a dictionary."
      ],
      "metadata": {
        "id": "SldhhwI7_eiZ"
      }
    },
    {
      "cell_type": "code",
      "source": [
        "#  set of n letters with which you can make the most words\n",
        "\n",
        "def anagram_subset_finder(n):\n",
        "  '''\n",
        "  Parameters: n (a positive integer)\n",
        "  Returns: a dictionary called anagrams with keys as ordered strings (alphabetically) of n distinct letters,\n",
        "  and values are a list of the corresponding words that can be formed with those letters.\n",
        "\n",
        "  For example, if n=3, the function returns a dictionary with keys being the unique three letters\n",
        "  and the values being all the possible words that contain those 3 letters.\n",
        "  If you want to see the possible combinations with the letters 'r', 'o', and 'e',\n",
        "  anagrams['eor'] gives you a list of all the words. If a key is not present, there are no words with that combination.\n",
        "  '''\n",
        "\n",
        "  # initialise the dictionary\n",
        "  anagrams = {}\n",
        "\n",
        "  # return empty\n",
        "  if n < 1:\n",
        "    return anagrams\n",
        "\n",
        "  # loop through list\n",
        "  for word in english_word_list:\n",
        "\n",
        "    # maintain list of letters for each word\n",
        "    list_of_letters = []\n",
        "    for letter in word:\n",
        "      if letter not in list_of_letters:\n",
        "        list_of_letters.append(letter)\n",
        "      # if the current word has more than n distinct letters break out of inner loop\n",
        "      if len(list_of_letters) > n:\n",
        "        break\n",
        "\n",
        "    # if current word does not have exactly n distinct letters move to the next word\n",
        "    if len(list_of_letters) < n or len(list_of_letters) > n:\n",
        "      continue\n",
        "    else:\n",
        "      # create key\n",
        "      sorted_string = ''.join(sorted(list_of_letters))\n",
        "      # create entry in dict if not already there; else add to existing list\n",
        "      if sorted_string not in anagrams.keys():\n",
        "        anagrams[sorted_string] = [word]\n",
        "      else:\n",
        "        anagrams[sorted_string].append(word)\n",
        "\n",
        "  return anagrams\n"
      ],
      "metadata": {
        "id": "nc6wrhWMwR2i"
      },
      "execution_count": 36,
      "outputs": []
    },
    {
      "cell_type": "code",
      "source": [
        "anagram_table = {number: len(anagram_subset_finder(number))  for number in range(1, 27)}"
      ],
      "metadata": {
        "id": "WVHikjrl21AU"
      },
      "execution_count": 37,
      "outputs": []
    },
    {
      "cell_type": "code",
      "source": [
        "anagram_dataframe = pd.DataFrame.from_dict(anagram_table, orient=\"index\")\n",
        "anagram_dataframe.rename(columns={0: 'combinations'}, inplace=True)\n",
        "anagram_dataframe"
      ],
      "metadata": {
        "colab": {
          "base_uri": "https://localhost:8080/",
          "height": 855
        },
        "id": "sNpia3v45IJ-",
        "outputId": "5ff3ad20-f3db-471b-d8b3-12b885732ac0"
      },
      "execution_count": 38,
      "outputs": [
        {
          "output_type": "execute_result",
          "data": {
            "text/plain": [
              "    combinations\n",
              "1             26\n",
              "2            104\n",
              "3            858\n",
              "4           3147\n",
              "5           7125\n",
              "6          12882\n",
              "7          18030\n",
              "8          19980\n",
              "9          17003\n",
              "10         11348\n",
              "11          5840\n",
              "12          2353\n",
              "13           631\n",
              "14           132\n",
              "15            18\n",
              "16             5\n",
              "17             0\n",
              "18             0\n",
              "19             0\n",
              "20             0\n",
              "21             0\n",
              "22             0\n",
              "23             0\n",
              "24             0\n",
              "25             0\n",
              "26             0"
            ],
            "text/html": [
              "\n",
              "  <div id=\"df-b87bd41a-aa01-4958-9e66-11f1e0ebfeb2\" class=\"colab-df-container\">\n",
              "    <div>\n",
              "<style scoped>\n",
              "    .dataframe tbody tr th:only-of-type {\n",
              "        vertical-align: middle;\n",
              "    }\n",
              "\n",
              "    .dataframe tbody tr th {\n",
              "        vertical-align: top;\n",
              "    }\n",
              "\n",
              "    .dataframe thead th {\n",
              "        text-align: right;\n",
              "    }\n",
              "</style>\n",
              "<table border=\"1\" class=\"dataframe\">\n",
              "  <thead>\n",
              "    <tr style=\"text-align: right;\">\n",
              "      <th></th>\n",
              "      <th>combinations</th>\n",
              "    </tr>\n",
              "  </thead>\n",
              "  <tbody>\n",
              "    <tr>\n",
              "      <th>1</th>\n",
              "      <td>26</td>\n",
              "    </tr>\n",
              "    <tr>\n",
              "      <th>2</th>\n",
              "      <td>104</td>\n",
              "    </tr>\n",
              "    <tr>\n",
              "      <th>3</th>\n",
              "      <td>858</td>\n",
              "    </tr>\n",
              "    <tr>\n",
              "      <th>4</th>\n",
              "      <td>3147</td>\n",
              "    </tr>\n",
              "    <tr>\n",
              "      <th>5</th>\n",
              "      <td>7125</td>\n",
              "    </tr>\n",
              "    <tr>\n",
              "      <th>6</th>\n",
              "      <td>12882</td>\n",
              "    </tr>\n",
              "    <tr>\n",
              "      <th>7</th>\n",
              "      <td>18030</td>\n",
              "    </tr>\n",
              "    <tr>\n",
              "      <th>8</th>\n",
              "      <td>19980</td>\n",
              "    </tr>\n",
              "    <tr>\n",
              "      <th>9</th>\n",
              "      <td>17003</td>\n",
              "    </tr>\n",
              "    <tr>\n",
              "      <th>10</th>\n",
              "      <td>11348</td>\n",
              "    </tr>\n",
              "    <tr>\n",
              "      <th>11</th>\n",
              "      <td>5840</td>\n",
              "    </tr>\n",
              "    <tr>\n",
              "      <th>12</th>\n",
              "      <td>2353</td>\n",
              "    </tr>\n",
              "    <tr>\n",
              "      <th>13</th>\n",
              "      <td>631</td>\n",
              "    </tr>\n",
              "    <tr>\n",
              "      <th>14</th>\n",
              "      <td>132</td>\n",
              "    </tr>\n",
              "    <tr>\n",
              "      <th>15</th>\n",
              "      <td>18</td>\n",
              "    </tr>\n",
              "    <tr>\n",
              "      <th>16</th>\n",
              "      <td>5</td>\n",
              "    </tr>\n",
              "    <tr>\n",
              "      <th>17</th>\n",
              "      <td>0</td>\n",
              "    </tr>\n",
              "    <tr>\n",
              "      <th>18</th>\n",
              "      <td>0</td>\n",
              "    </tr>\n",
              "    <tr>\n",
              "      <th>19</th>\n",
              "      <td>0</td>\n",
              "    </tr>\n",
              "    <tr>\n",
              "      <th>20</th>\n",
              "      <td>0</td>\n",
              "    </tr>\n",
              "    <tr>\n",
              "      <th>21</th>\n",
              "      <td>0</td>\n",
              "    </tr>\n",
              "    <tr>\n",
              "      <th>22</th>\n",
              "      <td>0</td>\n",
              "    </tr>\n",
              "    <tr>\n",
              "      <th>23</th>\n",
              "      <td>0</td>\n",
              "    </tr>\n",
              "    <tr>\n",
              "      <th>24</th>\n",
              "      <td>0</td>\n",
              "    </tr>\n",
              "    <tr>\n",
              "      <th>25</th>\n",
              "      <td>0</td>\n",
              "    </tr>\n",
              "    <tr>\n",
              "      <th>26</th>\n",
              "      <td>0</td>\n",
              "    </tr>\n",
              "  </tbody>\n",
              "</table>\n",
              "</div>\n",
              "    <div class=\"colab-df-buttons\">\n",
              "\n",
              "  <div class=\"colab-df-container\">\n",
              "    <button class=\"colab-df-convert\" onclick=\"convertToInteractive('df-b87bd41a-aa01-4958-9e66-11f1e0ebfeb2')\"\n",
              "            title=\"Convert this dataframe to an interactive table.\"\n",
              "            style=\"display:none;\">\n",
              "\n",
              "  <svg xmlns=\"http://www.w3.org/2000/svg\" height=\"24px\" viewBox=\"0 -960 960 960\">\n",
              "    <path d=\"M120-120v-720h720v720H120Zm60-500h600v-160H180v160Zm220 220h160v-160H400v160Zm0 220h160v-160H400v160ZM180-400h160v-160H180v160Zm440 0h160v-160H620v160ZM180-180h160v-160H180v160Zm440 0h160v-160H620v160Z\"/>\n",
              "  </svg>\n",
              "    </button>\n",
              "\n",
              "  <style>\n",
              "    .colab-df-container {\n",
              "      display:flex;\n",
              "      gap: 12px;\n",
              "    }\n",
              "\n",
              "    .colab-df-convert {\n",
              "      background-color: #E8F0FE;\n",
              "      border: none;\n",
              "      border-radius: 50%;\n",
              "      cursor: pointer;\n",
              "      display: none;\n",
              "      fill: #1967D2;\n",
              "      height: 32px;\n",
              "      padding: 0 0 0 0;\n",
              "      width: 32px;\n",
              "    }\n",
              "\n",
              "    .colab-df-convert:hover {\n",
              "      background-color: #E2EBFA;\n",
              "      box-shadow: 0px 1px 2px rgba(60, 64, 67, 0.3), 0px 1px 3px 1px rgba(60, 64, 67, 0.15);\n",
              "      fill: #174EA6;\n",
              "    }\n",
              "\n",
              "    .colab-df-buttons div {\n",
              "      margin-bottom: 4px;\n",
              "    }\n",
              "\n",
              "    [theme=dark] .colab-df-convert {\n",
              "      background-color: #3B4455;\n",
              "      fill: #D2E3FC;\n",
              "    }\n",
              "\n",
              "    [theme=dark] .colab-df-convert:hover {\n",
              "      background-color: #434B5C;\n",
              "      box-shadow: 0px 1px 3px 1px rgba(0, 0, 0, 0.15);\n",
              "      filter: drop-shadow(0px 1px 2px rgba(0, 0, 0, 0.3));\n",
              "      fill: #FFFFFF;\n",
              "    }\n",
              "  </style>\n",
              "\n",
              "    <script>\n",
              "      const buttonEl =\n",
              "        document.querySelector('#df-b87bd41a-aa01-4958-9e66-11f1e0ebfeb2 button.colab-df-convert');\n",
              "      buttonEl.style.display =\n",
              "        google.colab.kernel.accessAllowed ? 'block' : 'none';\n",
              "\n",
              "      async function convertToInteractive(key) {\n",
              "        const element = document.querySelector('#df-b87bd41a-aa01-4958-9e66-11f1e0ebfeb2');\n",
              "        const dataTable =\n",
              "          await google.colab.kernel.invokeFunction('convertToInteractive',\n",
              "                                                    [key], {});\n",
              "        if (!dataTable) return;\n",
              "\n",
              "        const docLinkHtml = 'Like what you see? Visit the ' +\n",
              "          '<a target=\"_blank\" href=https://colab.research.google.com/notebooks/data_table.ipynb>data table notebook</a>'\n",
              "          + ' to learn more about interactive tables.';\n",
              "        element.innerHTML = '';\n",
              "        dataTable['output_type'] = 'display_data';\n",
              "        await google.colab.output.renderOutput(dataTable, element);\n",
              "        const docLink = document.createElement('div');\n",
              "        docLink.innerHTML = docLinkHtml;\n",
              "        element.appendChild(docLink);\n",
              "      }\n",
              "    </script>\n",
              "  </div>\n",
              "\n",
              "\n",
              "<div id=\"df-4265718a-3773-4810-9610-bad0c6993a85\">\n",
              "  <button class=\"colab-df-quickchart\" onclick=\"quickchart('df-4265718a-3773-4810-9610-bad0c6993a85')\"\n",
              "            title=\"Suggest charts\"\n",
              "            style=\"display:none;\">\n",
              "\n",
              "<svg xmlns=\"http://www.w3.org/2000/svg\" height=\"24px\"viewBox=\"0 0 24 24\"\n",
              "     width=\"24px\">\n",
              "    <g>\n",
              "        <path d=\"M19 3H5c-1.1 0-2 .9-2 2v14c0 1.1.9 2 2 2h14c1.1 0 2-.9 2-2V5c0-1.1-.9-2-2-2zM9 17H7v-7h2v7zm4 0h-2V7h2v10zm4 0h-2v-4h2v4z\"/>\n",
              "    </g>\n",
              "</svg>\n",
              "  </button>\n",
              "\n",
              "<style>\n",
              "  .colab-df-quickchart {\n",
              "      --bg-color: #E8F0FE;\n",
              "      --fill-color: #1967D2;\n",
              "      --hover-bg-color: #E2EBFA;\n",
              "      --hover-fill-color: #174EA6;\n",
              "      --disabled-fill-color: #AAA;\n",
              "      --disabled-bg-color: #DDD;\n",
              "  }\n",
              "\n",
              "  [theme=dark] .colab-df-quickchart {\n",
              "      --bg-color: #3B4455;\n",
              "      --fill-color: #D2E3FC;\n",
              "      --hover-bg-color: #434B5C;\n",
              "      --hover-fill-color: #FFFFFF;\n",
              "      --disabled-bg-color: #3B4455;\n",
              "      --disabled-fill-color: #666;\n",
              "  }\n",
              "\n",
              "  .colab-df-quickchart {\n",
              "    background-color: var(--bg-color);\n",
              "    border: none;\n",
              "    border-radius: 50%;\n",
              "    cursor: pointer;\n",
              "    display: none;\n",
              "    fill: var(--fill-color);\n",
              "    height: 32px;\n",
              "    padding: 0;\n",
              "    width: 32px;\n",
              "  }\n",
              "\n",
              "  .colab-df-quickchart:hover {\n",
              "    background-color: var(--hover-bg-color);\n",
              "    box-shadow: 0 1px 2px rgba(60, 64, 67, 0.3), 0 1px 3px 1px rgba(60, 64, 67, 0.15);\n",
              "    fill: var(--button-hover-fill-color);\n",
              "  }\n",
              "\n",
              "  .colab-df-quickchart-complete:disabled,\n",
              "  .colab-df-quickchart-complete:disabled:hover {\n",
              "    background-color: var(--disabled-bg-color);\n",
              "    fill: var(--disabled-fill-color);\n",
              "    box-shadow: none;\n",
              "  }\n",
              "\n",
              "  .colab-df-spinner {\n",
              "    border: 2px solid var(--fill-color);\n",
              "    border-color: transparent;\n",
              "    border-bottom-color: var(--fill-color);\n",
              "    animation:\n",
              "      spin 1s steps(1) infinite;\n",
              "  }\n",
              "\n",
              "  @keyframes spin {\n",
              "    0% {\n",
              "      border-color: transparent;\n",
              "      border-bottom-color: var(--fill-color);\n",
              "      border-left-color: var(--fill-color);\n",
              "    }\n",
              "    20% {\n",
              "      border-color: transparent;\n",
              "      border-left-color: var(--fill-color);\n",
              "      border-top-color: var(--fill-color);\n",
              "    }\n",
              "    30% {\n",
              "      border-color: transparent;\n",
              "      border-left-color: var(--fill-color);\n",
              "      border-top-color: var(--fill-color);\n",
              "      border-right-color: var(--fill-color);\n",
              "    }\n",
              "    40% {\n",
              "      border-color: transparent;\n",
              "      border-right-color: var(--fill-color);\n",
              "      border-top-color: var(--fill-color);\n",
              "    }\n",
              "    60% {\n",
              "      border-color: transparent;\n",
              "      border-right-color: var(--fill-color);\n",
              "    }\n",
              "    80% {\n",
              "      border-color: transparent;\n",
              "      border-right-color: var(--fill-color);\n",
              "      border-bottom-color: var(--fill-color);\n",
              "    }\n",
              "    90% {\n",
              "      border-color: transparent;\n",
              "      border-bottom-color: var(--fill-color);\n",
              "    }\n",
              "  }\n",
              "</style>\n",
              "\n",
              "  <script>\n",
              "    async function quickchart(key) {\n",
              "      const quickchartButtonEl =\n",
              "        document.querySelector('#' + key + ' button');\n",
              "      quickchartButtonEl.disabled = true;  // To prevent multiple clicks.\n",
              "      quickchartButtonEl.classList.add('colab-df-spinner');\n",
              "      try {\n",
              "        const charts = await google.colab.kernel.invokeFunction(\n",
              "            'suggestCharts', [key], {});\n",
              "      } catch (error) {\n",
              "        console.error('Error during call to suggestCharts:', error);\n",
              "      }\n",
              "      quickchartButtonEl.classList.remove('colab-df-spinner');\n",
              "      quickchartButtonEl.classList.add('colab-df-quickchart-complete');\n",
              "    }\n",
              "    (() => {\n",
              "      let quickchartButtonEl =\n",
              "        document.querySelector('#df-4265718a-3773-4810-9610-bad0c6993a85 button');\n",
              "      quickchartButtonEl.style.display =\n",
              "        google.colab.kernel.accessAllowed ? 'block' : 'none';\n",
              "    })();\n",
              "  </script>\n",
              "</div>\n",
              "\n",
              "  <div id=\"id_37b960a2-54e0-4aa4-89bb-9d1a21a86970\">\n",
              "    <style>\n",
              "      .colab-df-generate {\n",
              "        background-color: #E8F0FE;\n",
              "        border: none;\n",
              "        border-radius: 50%;\n",
              "        cursor: pointer;\n",
              "        display: none;\n",
              "        fill: #1967D2;\n",
              "        height: 32px;\n",
              "        padding: 0 0 0 0;\n",
              "        width: 32px;\n",
              "      }\n",
              "\n",
              "      .colab-df-generate:hover {\n",
              "        background-color: #E2EBFA;\n",
              "        box-shadow: 0px 1px 2px rgba(60, 64, 67, 0.3), 0px 1px 3px 1px rgba(60, 64, 67, 0.15);\n",
              "        fill: #174EA6;\n",
              "      }\n",
              "\n",
              "      [theme=dark] .colab-df-generate {\n",
              "        background-color: #3B4455;\n",
              "        fill: #D2E3FC;\n",
              "      }\n",
              "\n",
              "      [theme=dark] .colab-df-generate:hover {\n",
              "        background-color: #434B5C;\n",
              "        box-shadow: 0px 1px 3px 1px rgba(0, 0, 0, 0.15);\n",
              "        filter: drop-shadow(0px 1px 2px rgba(0, 0, 0, 0.3));\n",
              "        fill: #FFFFFF;\n",
              "      }\n",
              "    </style>\n",
              "    <button class=\"colab-df-generate\" onclick=\"generateWithVariable('anagram_dataframe')\"\n",
              "            title=\"Generate code using this dataframe.\"\n",
              "            style=\"display:none;\">\n",
              "\n",
              "  <svg xmlns=\"http://www.w3.org/2000/svg\" height=\"24px\"viewBox=\"0 0 24 24\"\n",
              "       width=\"24px\">\n",
              "    <path d=\"M7,19H8.4L18.45,9,17,7.55,7,17.6ZM5,21V16.75L18.45,3.32a2,2,0,0,1,2.83,0l1.4,1.43a1.91,1.91,0,0,1,.58,1.4,1.91,1.91,0,0,1-.58,1.4L9.25,21ZM18.45,9,17,7.55Zm-12,3A5.31,5.31,0,0,0,4.9,8.1,5.31,5.31,0,0,0,1,6.5,5.31,5.31,0,0,0,4.9,4.9,5.31,5.31,0,0,0,6.5,1,5.31,5.31,0,0,0,8.1,4.9,5.31,5.31,0,0,0,12,6.5,5.46,5.46,0,0,0,6.5,12Z\"/>\n",
              "  </svg>\n",
              "    </button>\n",
              "    <script>\n",
              "      (() => {\n",
              "      const buttonEl =\n",
              "        document.querySelector('#id_37b960a2-54e0-4aa4-89bb-9d1a21a86970 button.colab-df-generate');\n",
              "      buttonEl.style.display =\n",
              "        google.colab.kernel.accessAllowed ? 'block' : 'none';\n",
              "\n",
              "      buttonEl.onclick = () => {\n",
              "        google.colab.notebook.generateWithVariable('anagram_dataframe');\n",
              "      }\n",
              "      })();\n",
              "    </script>\n",
              "  </div>\n",
              "\n",
              "    </div>\n",
              "  </div>\n"
            ],
            "application/vnd.google.colaboratory.intrinsic+json": {
              "type": "dataframe",
              "variable_name": "anagram_dataframe",
              "summary": "{\n  \"name\": \"anagram_dataframe\",\n  \"rows\": 26,\n  \"fields\": [\n    {\n      \"column\": \"combinations\",\n      \"properties\": {\n        \"dtype\": \"number\",\n        \"std\": 6415,\n        \"min\": 0,\n        \"max\": 19980,\n        \"num_unique_values\": 17,\n        \"samples\": [\n          26,\n          104,\n          12882\n        ],\n        \"semantic_type\": \"\",\n        \"description\": \"\"\n      }\n    }\n  ]\n}"
            }
          },
          "metadata": {},
          "execution_count": 38
        }
      ]
    },
    {
      "cell_type": "code",
      "source": [
        "# Calculate the total number of possible combinations for each n\n",
        "total_combinations = []\n",
        "for i in range(1, 27):\n",
        "  total_combinations.append(comb(26, i))\n",
        "\n",
        "pd.set_option('display.float_format', '{:.20f}'.format)\n",
        "anagram_dataframe['total_combinations'] = total_combinations\n",
        "anagram_dataframe['proportion'] = anagram_dataframe['combinations']/total_combinations\n",
        "anagram_dataframe"
      ],
      "metadata": {
        "colab": {
          "base_uri": "https://localhost:8080/",
          "height": 855
        },
        "id": "oCPeFKxf8n3z",
        "outputId": "3bdfa790-3130-4dbb-9b0d-161c60cfb505"
      },
      "execution_count": 39,
      "outputs": [
        {
          "output_type": "execute_result",
          "data": {
            "text/plain": [
              "    combinations  total_combinations             proportion\n",
              "1             26                  26 1.00000000000000000000\n",
              "2            104                 325 0.32000000000000000666\n",
              "3            858                2600 0.33000000000000001554\n",
              "4           3147               14950 0.21050167224080268413\n",
              "5           7125               65780 0.10831559744603222462\n",
              "6          12882              230230 0.05595274290926464944\n",
              "7          18030              657800 0.02740954697476436636\n",
              "8          19980             1562275 0.01278904162199356702\n",
              "9          17003             3124550 0.00544174361107999539\n",
              "10         11348             5311735 0.00213640175950042697\n",
              "11          5840             7726160 0.00075587355167379400\n",
              "12          2353             9657700 0.00024363979001211468\n",
              "13           631            10400600 0.00006066957675518720\n",
              "14           132             9657700 0.00001366785052341655\n",
              "15            18             7726160 0.00000232974724830964\n",
              "16             5             5311735 0.00000094131201951905\n",
              "17             0             3124550 0.00000000000000000000\n",
              "18             0             1562275 0.00000000000000000000\n",
              "19             0              657800 0.00000000000000000000\n",
              "20             0              230230 0.00000000000000000000\n",
              "21             0               65780 0.00000000000000000000\n",
              "22             0               14950 0.00000000000000000000\n",
              "23             0                2600 0.00000000000000000000\n",
              "24             0                 325 0.00000000000000000000\n",
              "25             0                  26 0.00000000000000000000\n",
              "26             0                   1 0.00000000000000000000"
            ],
            "text/html": [
              "\n",
              "  <div id=\"df-c3c373cc-374c-4135-9ce6-1b54b4eb2296\" class=\"colab-df-container\">\n",
              "    <div>\n",
              "<style scoped>\n",
              "    .dataframe tbody tr th:only-of-type {\n",
              "        vertical-align: middle;\n",
              "    }\n",
              "\n",
              "    .dataframe tbody tr th {\n",
              "        vertical-align: top;\n",
              "    }\n",
              "\n",
              "    .dataframe thead th {\n",
              "        text-align: right;\n",
              "    }\n",
              "</style>\n",
              "<table border=\"1\" class=\"dataframe\">\n",
              "  <thead>\n",
              "    <tr style=\"text-align: right;\">\n",
              "      <th></th>\n",
              "      <th>combinations</th>\n",
              "      <th>total_combinations</th>\n",
              "      <th>proportion</th>\n",
              "    </tr>\n",
              "  </thead>\n",
              "  <tbody>\n",
              "    <tr>\n",
              "      <th>1</th>\n",
              "      <td>26</td>\n",
              "      <td>26</td>\n",
              "      <td>1.00000000000000000000</td>\n",
              "    </tr>\n",
              "    <tr>\n",
              "      <th>2</th>\n",
              "      <td>104</td>\n",
              "      <td>325</td>\n",
              "      <td>0.32000000000000000666</td>\n",
              "    </tr>\n",
              "    <tr>\n",
              "      <th>3</th>\n",
              "      <td>858</td>\n",
              "      <td>2600</td>\n",
              "      <td>0.33000000000000001554</td>\n",
              "    </tr>\n",
              "    <tr>\n",
              "      <th>4</th>\n",
              "      <td>3147</td>\n",
              "      <td>14950</td>\n",
              "      <td>0.21050167224080268413</td>\n",
              "    </tr>\n",
              "    <tr>\n",
              "      <th>5</th>\n",
              "      <td>7125</td>\n",
              "      <td>65780</td>\n",
              "      <td>0.10831559744603222462</td>\n",
              "    </tr>\n",
              "    <tr>\n",
              "      <th>6</th>\n",
              "      <td>12882</td>\n",
              "      <td>230230</td>\n",
              "      <td>0.05595274290926464944</td>\n",
              "    </tr>\n",
              "    <tr>\n",
              "      <th>7</th>\n",
              "      <td>18030</td>\n",
              "      <td>657800</td>\n",
              "      <td>0.02740954697476436636</td>\n",
              "    </tr>\n",
              "    <tr>\n",
              "      <th>8</th>\n",
              "      <td>19980</td>\n",
              "      <td>1562275</td>\n",
              "      <td>0.01278904162199356702</td>\n",
              "    </tr>\n",
              "    <tr>\n",
              "      <th>9</th>\n",
              "      <td>17003</td>\n",
              "      <td>3124550</td>\n",
              "      <td>0.00544174361107999539</td>\n",
              "    </tr>\n",
              "    <tr>\n",
              "      <th>10</th>\n",
              "      <td>11348</td>\n",
              "      <td>5311735</td>\n",
              "      <td>0.00213640175950042697</td>\n",
              "    </tr>\n",
              "    <tr>\n",
              "      <th>11</th>\n",
              "      <td>5840</td>\n",
              "      <td>7726160</td>\n",
              "      <td>0.00075587355167379400</td>\n",
              "    </tr>\n",
              "    <tr>\n",
              "      <th>12</th>\n",
              "      <td>2353</td>\n",
              "      <td>9657700</td>\n",
              "      <td>0.00024363979001211468</td>\n",
              "    </tr>\n",
              "    <tr>\n",
              "      <th>13</th>\n",
              "      <td>631</td>\n",
              "      <td>10400600</td>\n",
              "      <td>0.00006066957675518720</td>\n",
              "    </tr>\n",
              "    <tr>\n",
              "      <th>14</th>\n",
              "      <td>132</td>\n",
              "      <td>9657700</td>\n",
              "      <td>0.00001366785052341655</td>\n",
              "    </tr>\n",
              "    <tr>\n",
              "      <th>15</th>\n",
              "      <td>18</td>\n",
              "      <td>7726160</td>\n",
              "      <td>0.00000232974724830964</td>\n",
              "    </tr>\n",
              "    <tr>\n",
              "      <th>16</th>\n",
              "      <td>5</td>\n",
              "      <td>5311735</td>\n",
              "      <td>0.00000094131201951905</td>\n",
              "    </tr>\n",
              "    <tr>\n",
              "      <th>17</th>\n",
              "      <td>0</td>\n",
              "      <td>3124550</td>\n",
              "      <td>0.00000000000000000000</td>\n",
              "    </tr>\n",
              "    <tr>\n",
              "      <th>18</th>\n",
              "      <td>0</td>\n",
              "      <td>1562275</td>\n",
              "      <td>0.00000000000000000000</td>\n",
              "    </tr>\n",
              "    <tr>\n",
              "      <th>19</th>\n",
              "      <td>0</td>\n",
              "      <td>657800</td>\n",
              "      <td>0.00000000000000000000</td>\n",
              "    </tr>\n",
              "    <tr>\n",
              "      <th>20</th>\n",
              "      <td>0</td>\n",
              "      <td>230230</td>\n",
              "      <td>0.00000000000000000000</td>\n",
              "    </tr>\n",
              "    <tr>\n",
              "      <th>21</th>\n",
              "      <td>0</td>\n",
              "      <td>65780</td>\n",
              "      <td>0.00000000000000000000</td>\n",
              "    </tr>\n",
              "    <tr>\n",
              "      <th>22</th>\n",
              "      <td>0</td>\n",
              "      <td>14950</td>\n",
              "      <td>0.00000000000000000000</td>\n",
              "    </tr>\n",
              "    <tr>\n",
              "      <th>23</th>\n",
              "      <td>0</td>\n",
              "      <td>2600</td>\n",
              "      <td>0.00000000000000000000</td>\n",
              "    </tr>\n",
              "    <tr>\n",
              "      <th>24</th>\n",
              "      <td>0</td>\n",
              "      <td>325</td>\n",
              "      <td>0.00000000000000000000</td>\n",
              "    </tr>\n",
              "    <tr>\n",
              "      <th>25</th>\n",
              "      <td>0</td>\n",
              "      <td>26</td>\n",
              "      <td>0.00000000000000000000</td>\n",
              "    </tr>\n",
              "    <tr>\n",
              "      <th>26</th>\n",
              "      <td>0</td>\n",
              "      <td>1</td>\n",
              "      <td>0.00000000000000000000</td>\n",
              "    </tr>\n",
              "  </tbody>\n",
              "</table>\n",
              "</div>\n",
              "    <div class=\"colab-df-buttons\">\n",
              "\n",
              "  <div class=\"colab-df-container\">\n",
              "    <button class=\"colab-df-convert\" onclick=\"convertToInteractive('df-c3c373cc-374c-4135-9ce6-1b54b4eb2296')\"\n",
              "            title=\"Convert this dataframe to an interactive table.\"\n",
              "            style=\"display:none;\">\n",
              "\n",
              "  <svg xmlns=\"http://www.w3.org/2000/svg\" height=\"24px\" viewBox=\"0 -960 960 960\">\n",
              "    <path d=\"M120-120v-720h720v720H120Zm60-500h600v-160H180v160Zm220 220h160v-160H400v160Zm0 220h160v-160H400v160ZM180-400h160v-160H180v160Zm440 0h160v-160H620v160ZM180-180h160v-160H180v160Zm440 0h160v-160H620v160Z\"/>\n",
              "  </svg>\n",
              "    </button>\n",
              "\n",
              "  <style>\n",
              "    .colab-df-container {\n",
              "      display:flex;\n",
              "      gap: 12px;\n",
              "    }\n",
              "\n",
              "    .colab-df-convert {\n",
              "      background-color: #E8F0FE;\n",
              "      border: none;\n",
              "      border-radius: 50%;\n",
              "      cursor: pointer;\n",
              "      display: none;\n",
              "      fill: #1967D2;\n",
              "      height: 32px;\n",
              "      padding: 0 0 0 0;\n",
              "      width: 32px;\n",
              "    }\n",
              "\n",
              "    .colab-df-convert:hover {\n",
              "      background-color: #E2EBFA;\n",
              "      box-shadow: 0px 1px 2px rgba(60, 64, 67, 0.3), 0px 1px 3px 1px rgba(60, 64, 67, 0.15);\n",
              "      fill: #174EA6;\n",
              "    }\n",
              "\n",
              "    .colab-df-buttons div {\n",
              "      margin-bottom: 4px;\n",
              "    }\n",
              "\n",
              "    [theme=dark] .colab-df-convert {\n",
              "      background-color: #3B4455;\n",
              "      fill: #D2E3FC;\n",
              "    }\n",
              "\n",
              "    [theme=dark] .colab-df-convert:hover {\n",
              "      background-color: #434B5C;\n",
              "      box-shadow: 0px 1px 3px 1px rgba(0, 0, 0, 0.15);\n",
              "      filter: drop-shadow(0px 1px 2px rgba(0, 0, 0, 0.3));\n",
              "      fill: #FFFFFF;\n",
              "    }\n",
              "  </style>\n",
              "\n",
              "    <script>\n",
              "      const buttonEl =\n",
              "        document.querySelector('#df-c3c373cc-374c-4135-9ce6-1b54b4eb2296 button.colab-df-convert');\n",
              "      buttonEl.style.display =\n",
              "        google.colab.kernel.accessAllowed ? 'block' : 'none';\n",
              "\n",
              "      async function convertToInteractive(key) {\n",
              "        const element = document.querySelector('#df-c3c373cc-374c-4135-9ce6-1b54b4eb2296');\n",
              "        const dataTable =\n",
              "          await google.colab.kernel.invokeFunction('convertToInteractive',\n",
              "                                                    [key], {});\n",
              "        if (!dataTable) return;\n",
              "\n",
              "        const docLinkHtml = 'Like what you see? Visit the ' +\n",
              "          '<a target=\"_blank\" href=https://colab.research.google.com/notebooks/data_table.ipynb>data table notebook</a>'\n",
              "          + ' to learn more about interactive tables.';\n",
              "        element.innerHTML = '';\n",
              "        dataTable['output_type'] = 'display_data';\n",
              "        await google.colab.output.renderOutput(dataTable, element);\n",
              "        const docLink = document.createElement('div');\n",
              "        docLink.innerHTML = docLinkHtml;\n",
              "        element.appendChild(docLink);\n",
              "      }\n",
              "    </script>\n",
              "  </div>\n",
              "\n",
              "\n",
              "<div id=\"df-412aa650-a8d8-4761-9907-281de8bfe493\">\n",
              "  <button class=\"colab-df-quickchart\" onclick=\"quickchart('df-412aa650-a8d8-4761-9907-281de8bfe493')\"\n",
              "            title=\"Suggest charts\"\n",
              "            style=\"display:none;\">\n",
              "\n",
              "<svg xmlns=\"http://www.w3.org/2000/svg\" height=\"24px\"viewBox=\"0 0 24 24\"\n",
              "     width=\"24px\">\n",
              "    <g>\n",
              "        <path d=\"M19 3H5c-1.1 0-2 .9-2 2v14c0 1.1.9 2 2 2h14c1.1 0 2-.9 2-2V5c0-1.1-.9-2-2-2zM9 17H7v-7h2v7zm4 0h-2V7h2v10zm4 0h-2v-4h2v4z\"/>\n",
              "    </g>\n",
              "</svg>\n",
              "  </button>\n",
              "\n",
              "<style>\n",
              "  .colab-df-quickchart {\n",
              "      --bg-color: #E8F0FE;\n",
              "      --fill-color: #1967D2;\n",
              "      --hover-bg-color: #E2EBFA;\n",
              "      --hover-fill-color: #174EA6;\n",
              "      --disabled-fill-color: #AAA;\n",
              "      --disabled-bg-color: #DDD;\n",
              "  }\n",
              "\n",
              "  [theme=dark] .colab-df-quickchart {\n",
              "      --bg-color: #3B4455;\n",
              "      --fill-color: #D2E3FC;\n",
              "      --hover-bg-color: #434B5C;\n",
              "      --hover-fill-color: #FFFFFF;\n",
              "      --disabled-bg-color: #3B4455;\n",
              "      --disabled-fill-color: #666;\n",
              "  }\n",
              "\n",
              "  .colab-df-quickchart {\n",
              "    background-color: var(--bg-color);\n",
              "    border: none;\n",
              "    border-radius: 50%;\n",
              "    cursor: pointer;\n",
              "    display: none;\n",
              "    fill: var(--fill-color);\n",
              "    height: 32px;\n",
              "    padding: 0;\n",
              "    width: 32px;\n",
              "  }\n",
              "\n",
              "  .colab-df-quickchart:hover {\n",
              "    background-color: var(--hover-bg-color);\n",
              "    box-shadow: 0 1px 2px rgba(60, 64, 67, 0.3), 0 1px 3px 1px rgba(60, 64, 67, 0.15);\n",
              "    fill: var(--button-hover-fill-color);\n",
              "  }\n",
              "\n",
              "  .colab-df-quickchart-complete:disabled,\n",
              "  .colab-df-quickchart-complete:disabled:hover {\n",
              "    background-color: var(--disabled-bg-color);\n",
              "    fill: var(--disabled-fill-color);\n",
              "    box-shadow: none;\n",
              "  }\n",
              "\n",
              "  .colab-df-spinner {\n",
              "    border: 2px solid var(--fill-color);\n",
              "    border-color: transparent;\n",
              "    border-bottom-color: var(--fill-color);\n",
              "    animation:\n",
              "      spin 1s steps(1) infinite;\n",
              "  }\n",
              "\n",
              "  @keyframes spin {\n",
              "    0% {\n",
              "      border-color: transparent;\n",
              "      border-bottom-color: var(--fill-color);\n",
              "      border-left-color: var(--fill-color);\n",
              "    }\n",
              "    20% {\n",
              "      border-color: transparent;\n",
              "      border-left-color: var(--fill-color);\n",
              "      border-top-color: var(--fill-color);\n",
              "    }\n",
              "    30% {\n",
              "      border-color: transparent;\n",
              "      border-left-color: var(--fill-color);\n",
              "      border-top-color: var(--fill-color);\n",
              "      border-right-color: var(--fill-color);\n",
              "    }\n",
              "    40% {\n",
              "      border-color: transparent;\n",
              "      border-right-color: var(--fill-color);\n",
              "      border-top-color: var(--fill-color);\n",
              "    }\n",
              "    60% {\n",
              "      border-color: transparent;\n",
              "      border-right-color: var(--fill-color);\n",
              "    }\n",
              "    80% {\n",
              "      border-color: transparent;\n",
              "      border-right-color: var(--fill-color);\n",
              "      border-bottom-color: var(--fill-color);\n",
              "    }\n",
              "    90% {\n",
              "      border-color: transparent;\n",
              "      border-bottom-color: var(--fill-color);\n",
              "    }\n",
              "  }\n",
              "</style>\n",
              "\n",
              "  <script>\n",
              "    async function quickchart(key) {\n",
              "      const quickchartButtonEl =\n",
              "        document.querySelector('#' + key + ' button');\n",
              "      quickchartButtonEl.disabled = true;  // To prevent multiple clicks.\n",
              "      quickchartButtonEl.classList.add('colab-df-spinner');\n",
              "      try {\n",
              "        const charts = await google.colab.kernel.invokeFunction(\n",
              "            'suggestCharts', [key], {});\n",
              "      } catch (error) {\n",
              "        console.error('Error during call to suggestCharts:', error);\n",
              "      }\n",
              "      quickchartButtonEl.classList.remove('colab-df-spinner');\n",
              "      quickchartButtonEl.classList.add('colab-df-quickchart-complete');\n",
              "    }\n",
              "    (() => {\n",
              "      let quickchartButtonEl =\n",
              "        document.querySelector('#df-412aa650-a8d8-4761-9907-281de8bfe493 button');\n",
              "      quickchartButtonEl.style.display =\n",
              "        google.colab.kernel.accessAllowed ? 'block' : 'none';\n",
              "    })();\n",
              "  </script>\n",
              "</div>\n",
              "\n",
              "  <div id=\"id_a56c0b25-debe-4c75-9762-723ea9265f28\">\n",
              "    <style>\n",
              "      .colab-df-generate {\n",
              "        background-color: #E8F0FE;\n",
              "        border: none;\n",
              "        border-radius: 50%;\n",
              "        cursor: pointer;\n",
              "        display: none;\n",
              "        fill: #1967D2;\n",
              "        height: 32px;\n",
              "        padding: 0 0 0 0;\n",
              "        width: 32px;\n",
              "      }\n",
              "\n",
              "      .colab-df-generate:hover {\n",
              "        background-color: #E2EBFA;\n",
              "        box-shadow: 0px 1px 2px rgba(60, 64, 67, 0.3), 0px 1px 3px 1px rgba(60, 64, 67, 0.15);\n",
              "        fill: #174EA6;\n",
              "      }\n",
              "\n",
              "      [theme=dark] .colab-df-generate {\n",
              "        background-color: #3B4455;\n",
              "        fill: #D2E3FC;\n",
              "      }\n",
              "\n",
              "      [theme=dark] .colab-df-generate:hover {\n",
              "        background-color: #434B5C;\n",
              "        box-shadow: 0px 1px 3px 1px rgba(0, 0, 0, 0.15);\n",
              "        filter: drop-shadow(0px 1px 2px rgba(0, 0, 0, 0.3));\n",
              "        fill: #FFFFFF;\n",
              "      }\n",
              "    </style>\n",
              "    <button class=\"colab-df-generate\" onclick=\"generateWithVariable('anagram_dataframe')\"\n",
              "            title=\"Generate code using this dataframe.\"\n",
              "            style=\"display:none;\">\n",
              "\n",
              "  <svg xmlns=\"http://www.w3.org/2000/svg\" height=\"24px\"viewBox=\"0 0 24 24\"\n",
              "       width=\"24px\">\n",
              "    <path d=\"M7,19H8.4L18.45,9,17,7.55,7,17.6ZM5,21V16.75L18.45,3.32a2,2,0,0,1,2.83,0l1.4,1.43a1.91,1.91,0,0,1,.58,1.4,1.91,1.91,0,0,1-.58,1.4L9.25,21ZM18.45,9,17,7.55Zm-12,3A5.31,5.31,0,0,0,4.9,8.1,5.31,5.31,0,0,0,1,6.5,5.31,5.31,0,0,0,4.9,4.9,5.31,5.31,0,0,0,6.5,1,5.31,5.31,0,0,0,8.1,4.9,5.31,5.31,0,0,0,12,6.5,5.46,5.46,0,0,0,6.5,12Z\"/>\n",
              "  </svg>\n",
              "    </button>\n",
              "    <script>\n",
              "      (() => {\n",
              "      const buttonEl =\n",
              "        document.querySelector('#id_a56c0b25-debe-4c75-9762-723ea9265f28 button.colab-df-generate');\n",
              "      buttonEl.style.display =\n",
              "        google.colab.kernel.accessAllowed ? 'block' : 'none';\n",
              "\n",
              "      buttonEl.onclick = () => {\n",
              "        google.colab.notebook.generateWithVariable('anagram_dataframe');\n",
              "      }\n",
              "      })();\n",
              "    </script>\n",
              "  </div>\n",
              "\n",
              "    </div>\n",
              "  </div>\n"
            ],
            "application/vnd.google.colaboratory.intrinsic+json": {
              "type": "dataframe",
              "variable_name": "anagram_dataframe",
              "summary": "{\n  \"name\": \"anagram_dataframe\",\n  \"rows\": 26,\n  \"fields\": [\n    {\n      \"column\": \"combinations\",\n      \"properties\": {\n        \"dtype\": \"number\",\n        \"std\": 6415,\n        \"min\": 0,\n        \"max\": 19980,\n        \"num_unique_values\": 17,\n        \"samples\": [\n          26,\n          104,\n          12882\n        ],\n        \"semantic_type\": \"\",\n        \"description\": \"\"\n      }\n    },\n    {\n      \"column\": \"total_combinations\",\n      \"properties\": {\n        \"dtype\": \"number\",\n        \"std\": 3592788,\n        \"min\": 1,\n        \"max\": 10400600,\n        \"num_unique_values\": 14,\n        \"samples\": [\n          5311735,\n          9657700,\n          26\n        ],\n        \"semantic_type\": \"\",\n        \"description\": \"\"\n      }\n    },\n    {\n      \"column\": \"proportion\",\n      \"properties\": {\n        \"dtype\": \"number\",\n        \"std\": 0.210337082201195,\n        \"min\": 0.0,\n        \"max\": 1.0,\n        \"num_unique_values\": 17,\n        \"samples\": [\n          1.0,\n          0.32,\n          0.05595274290926465\n        ],\n        \"semantic_type\": \"\",\n        \"description\": \"\"\n      }\n    }\n  ]\n}"
            }
          },
          "metadata": {},
          "execution_count": 39
        }
      ]
    },
    {
      "cell_type": "markdown",
      "source": [
        "Since the function returns an empty dictionary for all values above 16, the words that use the most different letters use 16 of them."
      ],
      "metadata": {
        "id": "zmdxUOZtyfMb"
      }
    },
    {
      "cell_type": "markdown",
      "source": [
        "As an example, let us see which combination of four letters can create the most words"
      ],
      "metadata": {
        "id": "5LxGpEw9zPxB"
      }
    },
    {
      "cell_type": "code",
      "source": [
        "fourletters = anagram_subset_finder(4)\n",
        "m = max(map(len, fourletters.values()))\n",
        "most = [x for x in fourletters if len(fourletters[x]) == m]\n",
        "m, most"
      ],
      "metadata": {
        "colab": {
          "base_uri": "https://localhost:8080/"
        },
        "id": "sfl3Ce3EzIf8",
        "outputId": "835e84e6-d621-4e24-a66f-3db196f65a69"
      },
      "execution_count": 46,
      "outputs": [
        {
          "output_type": "execute_result",
          "data": {
            "text/plain": [
              "(30, ['aert', 'erst'])"
            ]
          },
          "metadata": {},
          "execution_count": 46
        }
      ]
    },
    {
      "cell_type": "code",
      "source": [
        "fourletters['erst']"
      ],
      "metadata": {
        "colab": {
          "base_uri": "https://localhost:8080/"
        },
        "id": "TpxNLbzjzIdi",
        "outputId": "e56daf9e-f49b-485d-ff54-60e86efee57b"
      },
      "execution_count": 45,
      "outputs": [
        {
          "output_type": "execute_result",
          "data": {
            "text/plain": [
              "['ester',\n",
              " 'estre',\n",
              " 'reest',\n",
              " 'reester',\n",
              " 'reset',\n",
              " 'resetter',\n",
              " 'rest',\n",
              " 'rester',\n",
              " 'restes',\n",
              " 'restress',\n",
              " 'retest',\n",
              " 'sert',\n",
              " 'setter',\n",
              " 'steer',\n",
              " 'steerer',\n",
              " 'stere',\n",
              " 'stert',\n",
              " 'stre',\n",
              " 'stree',\n",
              " 'street',\n",
              " 'streets',\n",
              " 'stress',\n",
              " 'stresser',\n",
              " 'stret',\n",
              " 'strette',\n",
              " 'terse',\n",
              " 'tester',\n",
              " 'tress',\n",
              " 'trest',\n",
              " 'tsere']"
            ]
          },
          "metadata": {},
          "execution_count": 45
        }
      ]
    },
    {
      "cell_type": "code",
      "source": [
        "fourletters['aert']"
      ],
      "metadata": {
        "id": "rqwu-fJ0zIZG",
        "colab": {
          "base_uri": "https://localhost:8080/"
        },
        "outputId": "adddf032-cbb4-4e10-8373-2182af79850b"
      },
      "execution_count": 44,
      "outputs": [
        {
          "output_type": "execute_result",
          "data": {
            "text/plain": [
              "['aerate',\n",
              " 'arete',\n",
              " 'ateeter',\n",
              " 'atter',\n",
              " 'eater',\n",
              " 'errata',\n",
              " 'rate',\n",
              " 'rater',\n",
              " 'ratter',\n",
              " 'rerate',\n",
              " 'retare',\n",
              " 'retreat',\n",
              " 'retreater',\n",
              " 'tare',\n",
              " 'tarea',\n",
              " 'tarrer',\n",
              " 'tartaret',\n",
              " 'tartrate',\n",
              " 'tater',\n",
              " 'tatter',\n",
              " 'teaer',\n",
              " 'tear',\n",
              " 'tearer',\n",
              " 'teart',\n",
              " 'tera',\n",
              " 'terrar',\n",
              " 'tetra',\n",
              " 'treat',\n",
              " 'treatee',\n",
              " 'treater']"
            ]
          },
          "metadata": {},
          "execution_count": 44
        }
      ]
    }
  ]
}